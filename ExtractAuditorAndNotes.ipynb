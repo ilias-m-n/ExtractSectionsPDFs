{
 "cells": [
  {
   "cell_type": "markdown",
   "id": "25c67bac-91fb-4185-b159-22b8befc0f80",
   "metadata": {},
   "source": [
    "# Imports"
   ]
  },
  {
   "cell_type": "code",
   "execution_count": 146,
   "id": "b32d22ed-9f04-4030-bbfd-d64217777434",
   "metadata": {},
   "outputs": [
    {
     "data": {
      "text/html": [
       "<style>.container { width:100% !important; }</style>"
      ],
      "text/plain": [
       "<IPython.core.display.HTML object>"
      ]
     },
     "metadata": {},
     "output_type": "display_data"
    },
    {
     "name": "stdout",
     "output_type": "stream",
     "text": [
      "The autoreload extension is already loaded. To reload it, use:\n",
      "  %reload_ext autoreload\n"
     ]
    }
   ],
   "source": [
    "import re\n",
    "import os\n",
    "import pandas as pd\n",
    "from pprint import pprint\n",
    "import time\n",
    "\n",
    "import utility.utility as util\n",
    "from utility.Extractor import PageNumberExtractor, PageTextExtractor\n",
    "import utility.text_cleaning as tc\n",
    "import utility.extractor_meta as em\n",
    "from datetime import datetime\n",
    "\n",
    "# Progress Bars:\n",
    "from tqdm import tqdm\n",
    "from tqdm.notebook import tqdm_notebook\n",
    "tqdm_notebook.pandas()\n",
    "\n",
    "# Below import and instructions simply for display\n",
    "from IPython.display import display, HTML, clear_output\n",
    "display(HTML(\"<style>.container { width:100% !important; }</style>\"))\n",
    "\n",
    "# resets import once changes have been applied\n",
    "%load_ext autoreload\n",
    "%autoreload 2"
   ]
  },
  {
   "cell_type": "markdown",
   "id": "a4c417cf-4598-45cf-87a9-95dc7fb2233a",
   "metadata": {},
   "source": [
    "# Paths"
   ]
  },
  {
   "cell_type": "code",
   "execution_count": 174,
   "id": "d165cb2f-ddba-4d43-9c87-4c9b54588695",
   "metadata": {},
   "outputs": [],
   "source": [
    "path_cwd = os.getcwd()\n",
    "path_data = os.path.join(path_cwd, 'data')\n",
    "path_raw_pdf = os.path.join(path_data, 'raw_pdf_files')\n",
    "path_raw_txt = os.path.join(path_data, 'raw_text_files')\n",
    "path_output = os.path.join(path_cwd, 'output')"
   ]
  },
  {
   "cell_type": "markdown",
   "id": "0d14aec2-e506-4c71-a9ea-243f1dfd7319",
   "metadata": {},
   "source": [
    "## File paths"
   ]
  },
  {
   "cell_type": "code",
   "execution_count": 175,
   "id": "fcecaef7-d42e-44d2-930e-1b3afad7e41c",
   "metadata": {},
   "outputs": [],
   "source": [
    "paths_pdf_files = {file.split('.')[0]: os.path.join(path_raw_pdf, file) for file in os.listdir(path_raw_pdf) if file != '.gitkeep'}\n",
    "ids = list(paths_pdf_files.keys())"
   ]
  },
  {
   "cell_type": "markdown",
   "id": "46a06ade-a5d4-4871-aca2-1a6b3b66e8a6",
   "metadata": {},
   "source": [
    "# Prepare Sections Anchors"
   ]
  },
  {
   "cell_type": "code",
   "execution_count": 305,
   "id": "7b1eb0bc-0d43-4458-ac90-1a81485b243f",
   "metadata": {},
   "outputs": [],
   "source": [
    "section_anchors = {'notes': em._notes_sections, 'auditor': em._auditor_sections}\n",
    "processed_section_anchors = util.process_section_anchors(section_anchors)"
   ]
  },
  {
   "cell_type": "markdown",
   "id": "8404e169-86c4-46af-ac58-fbc311310ae5",
   "metadata": {},
   "source": [
    "# Create Extractors"
   ]
  },
  {
   "cell_type": "code",
   "execution_count": 308,
   "id": "68d6fc78-d1a5-4976-9e70-81739677f2c9",
   "metadata": {},
   "outputs": [
    {
     "name": "stderr",
     "output_type": "stream",
     "text": [
      "100%|█████████████████████████████████████████████████████████████████████████████| 183/183 [00:00<00:00, 71814.90it/s]\n"
     ]
    }
   ],
   "source": [
    "page_num_extractors = {k: PageNumberExtractor(doc_id = k,\n",
    "                                              path = v,\n",
    "                                              section_anchors = processed_section_anchors,\n",
    "                                              min_anchor_hit_ratio = 0.5, \n",
    "                                              flag_only_max_hits = False,\n",
    "                                              flag_allow_overlapping_sections = False,                                              \n",
    "                                              flag_adjust_real_page_num = False,\n",
    "                                              flag_do_ocr = False,\n",
    "                                              flag_allow_duplicate_hits_in_groups = True,\n",
    "                                              sections_with_page_skip_groups = ['auditor'],\n",
    "                                              thresh_ocr =100) for k, v in tqdm(paths_pdf_files.items())}"
   ]
  },
  {
   "cell_type": "code",
   "execution_count": 309,
   "id": "600e74f3-5534-43e5-b3e7-22acbbd791c5",
   "metadata": {},
   "outputs": [
    {
     "name": "stderr",
     "output_type": "stream",
     "text": [
      "100%|████████████████████████████████████████████████████████████████████████████████| 183/183 [15:30<00:00,  5.08s/it]\n"
     ]
    }
   ],
   "source": [
    "results = []\n",
    "for id in tqdm(page_num_extractors):\n",
    "    e = page_num_extractors[id]\n",
    "    results.append(e.run())\n",
    "    del e\n",
    "result_df = pd.DataFrame(results)"
   ]
  },
  {
   "cell_type": "code",
   "execution_count": 342,
   "id": "d7e4e72d-5a3b-4d45-8d0a-0192377b1495",
   "metadata": {},
   "outputs": [],
   "source": [
    "test_df = pd.read_excel(os.path.join(path_data, 'testing_meta', 'sample_8april3.xlsx'))\n",
    "test_df = test_df['doc_id audit_std_page notes_std_page done'.split()].copy()\n",
    "test_df['audit_std_page'] = pd.to_numeric(test_df['audit_std_page'], errors='coerce').astype('Int64') - 1 \n",
    "test_df['notes_std_page'] = pd.to_numeric(test_df['notes_std_page'], errors='coerce').astype('Int64') - 1\n",
    "test_df['doc_id'] = test_df['doc_id'].astype(str)\n",
    "test_df2 = pd.read_excel(os.path.join(path_data, 'testing_meta', 'fix_Sara_9_43.xlsx'))\n",
    "test_df2 = test_df2['doc_id audit_std_page notes_std_page'.split()].copy()\n",
    "test_df2['audit_std_page'] = pd.to_numeric(test_df2['audit_std_page'], errors='coerce').astype('Int64') - 1 \n",
    "test_df2['notes_std_page'] = pd.to_numeric(test_df2['notes_std_page'], errors='coerce').astype('Int64') - 1\n",
    "test_df2['doc_id'] = test_df2['doc_id'].astype(str)\n",
    "\n",
    "for index, row in test_df2.iterrows():\n",
    "    test_df.loc[test_df.doc_id == row.doc_id, 'audit_std_page'] = row.audit_std_page\n",
    "    test_df.loc[test_df.doc_id == row.doc_id, 'notes_std_page'] = row.notes_std_page"
   ]
  },
  {
   "cell_type": "code",
   "execution_count": 343,
   "id": "ada8a9f1-1fa8-4cdb-8dcb-409793051ebc",
   "metadata": {},
   "outputs": [],
   "source": [
    "merged = pd.merge(result_df, test_df, on='doc_id', how='left')\n"
   ]
  },
  {
   "cell_type": "code",
   "execution_count": 344,
   "id": "b1734ff7-f273-46f7-aa37-649d93a19fc6",
   "metadata": {},
   "outputs": [],
   "source": [
    "merged['hit_notes'] = merged.apply(lambda x: (x.notes_std_page in x.notes) if pd.notna(x.notes_std_page) else False, axis=1)\n",
    "merged['hit_audit'] = merged.apply(lambda x: (x.audit_std_page in x.auditor) if pd.notna(x.audit_std_page) else False, axis=1)"
   ]
  },
  {
   "cell_type": "code",
   "execution_count": 345,
   "id": "2912f965-547d-47c5-9b11-2cb456082dbb",
   "metadata": {},
   "outputs": [
    {
     "name": "stdout",
     "output_type": "stream",
     "text": [
      "notes:  hit_notes    1.0\n",
      "dtype: float64\n",
      "auditor:  hit_audit    0.994536\n",
      "dtype: float64\n"
     ]
    }
   ],
   "source": [
    "def calc_acc(df, section):\n",
    "    df = df[[f'hit_{section}']].copy()\n",
    "    mask_True = df[f'hit_{section}'] == True\n",
    "    hits = df[mask_True].count()\n",
    "    mask_valid = df[f'hit_{section}'].isin([True, False])\n",
    "    valid =df[mask_valid].count()\n",
    "    return hits/valid\n",
    "\n",
    "print('notes: ',calc_acc(merged, 'notes'))\n",
    "print('auditor: ',calc_acc(merged, 'audit'))"
   ]
  },
  {
   "cell_type": "markdown",
   "id": "12c18117-8190-4ca9-b717-d0235c2271aa",
   "metadata": {},
   "source": [
    "# Save Found Page Numbers"
   ]
  },
  {
   "cell_type": "code",
   "execution_count": 349,
   "id": "126ef44a-5b5a-4c0c-a036-b0952701778b",
   "metadata": {},
   "outputs": [],
   "source": [
    "curr_time = datetime.now().strftime(\"%Y_%m_%d_%H_%M\")\n",
    "result_df.to_parquet(os.path.join(path_output, f\"page_nums_{curr_time}.parquet\"), index=False)"
   ]
  },
  {
   "cell_type": "markdown",
   "id": "279bbf36-52d9-46bb-98ad-9acf2ad0eaed",
   "metadata": {},
   "source": [
    "# Extract Pages and prep text"
   ]
  },
  {
   "cell_type": "markdown",
   "id": "6711fcdb-8579-494b-93b0-4355b332bc55",
   "metadata": {},
   "source": [
    "## Load Meta Page File"
   ]
  },
  {
   "cell_type": "code",
   "execution_count": 351,
   "id": "7f96a20a-e1b9-41ed-bfd9-bad8a23d98c6",
   "metadata": {},
   "outputs": [],
   "source": [
    "file = \"page_nums_2024_04_11_00_41.parquet\"\n",
    "sections = ['auditor', 'notes']\n",
    "meta_df = pd.read_parquet(os.path.join(path_output, file))"
   ]
  },
  {
   "cell_type": "code",
   "execution_count": 352,
   "id": "bcbcf8d8-eeaf-4a20-b016-022f2f7c4e4e",
   "metadata": {},
   "outputs": [],
   "source": [
    "meta_df['path_doc'] = meta_df.doc_id.apply(lambda x: os.path.join(path_raw_pdf, f\"{x}.pdf\"))"
   ]
  },
  {
   "cell_type": "code",
   "execution_count": 353,
   "id": "7ee3808e-735d-4b74-9346-01610c6a26a3",
   "metadata": {},
   "outputs": [],
   "source": [
    "meta_ids = meta_df['doc_id'].values"
   ]
  },
  {
   "cell_type": "code",
   "execution_count": 363,
   "id": "223d94f9-a7d3-441f-b9a6-15736d3b3a29",
   "metadata": {},
   "outputs": [],
   "source": [
    "extraction_anchors = {'notes': em._notes_standards, 'auditor': em._auditor_standards}\n",
    "processed_extraction_anchors = util.process_section_anchors(extraction_anchors)"
   ]
  },
  {
   "cell_type": "code",
   "execution_count": 427,
   "id": "f75ab7f7-387f-4ad8-9729-85154f0d7d5e",
   "metadata": {},
   "outputs": [
    {
     "name": "stderr",
     "output_type": "stream",
     "text": [
      "183it [00:50,  3.63it/s]\n"
     ]
    }
   ],
   "source": [
    "results = {}\n",
    "for index, row in tqdm(meta_df.iterrows()):\n",
    "    path = row.path_doc\n",
    "    id = row.doc_id\n",
    "    for section in sections:\n",
    "        if f\"{section}_terms\" not in meta_df.columns:\n",
    "            meta_df[f\"{section}_terms\"] = None\n",
    "            meta_df[f\"{section}_terms\"] = meta_df[f\"{section}_terms\"].astype('object')\n",
    "        sections_pages = row[section]\n",
    "        key = tuple([id, section])\n",
    "        results[key] = PageTextExtractor(id, path, section, sections_pages, True, processed_extraction_anchors[section], 5, 400).run()\n",
    "        meta_df.loc[meta_df.doc_id == id,f\"{section}_num_tokens\"] = results[key][1]\n",
    "        meta_df.loc[meta_df.doc_id == id,f\"{section}_text\"] = results[key][0]\n",
    "        meta_df.at[index,f\"{section}_terms\"] = results[key][2]"
   ]
  },
  {
   "cell_type": "code",
   "execution_count": 425,
   "id": "2b40f9ed-8463-4e07-9f56-54c7367c66f9",
   "metadata": {},
   "outputs": [],
   "source": [
    "cols_num_tokens = [col for col in meta_df.columns if \"num_tokens\" in col]\n",
    "if 'total_num_tokens' in meta_df.columns:\n",
    "    meta_df['total_num_tokens'] = 0\n",
    "meta_df['total_num_tokens'] = meta_df[cols_num_tokens].sum(axis=1)"
   ]
  },
  {
   "cell_type": "code",
   "execution_count": 367,
   "id": "8066c81d-9b6e-46a6-b8f2-7e42a39af8d8",
   "metadata": {},
   "outputs": [
    {
     "data": {
      "text/plain": [
       "count     183.000000\n",
       "mean      636.360656\n",
       "std       356.437672\n",
       "min       143.000000\n",
       "25%       359.000000\n",
       "50%       556.000000\n",
       "75%       816.500000\n",
       "max      2150.000000\n",
       "Name: total_num_tokens, dtype: float64"
      ]
     },
     "execution_count": 367,
     "metadata": {},
     "output_type": "execute_result"
    }
   ],
   "source": [
    "meta_df.total_num_tokens.describe()"
   ]
  },
  {
   "cell_type": "code",
   "execution_count": 428,
   "id": "69282a96-00e7-4681-a364-4871de8e7ce4",
   "metadata": {},
   "outputs": [
    {
     "data": {
      "text/plain": [
       "Index(['doc_id', 'doc_num_pages', 'notes', 'auditor', 'path_doc',\n",
       "       'auditor_terms', 'auditor_num_tokens', 'auditor_text', 'notes_terms',\n",
       "       'notes_num_tokens', 'notes_text'],\n",
       "      dtype='object')"
      ]
     },
     "execution_count": 428,
     "metadata": {},
     "output_type": "execute_result"
    }
   ],
   "source": [
    "meta_df.columns"
   ]
  },
  {
   "cell_type": "code",
   "execution_count": 437,
   "id": "3b00e845-ce97-4361-9b79-26d91cc2b64b",
   "metadata": {},
   "outputs": [
    {
     "name": "stdout",
     "output_type": "stream",
     "text": [
      "auditor_text\n",
      "in the circumstances but not for the purpose of expressing an opinion on the effectiveness of the entitys internal control. An audit also includes evaluating the appropriateness of accounting policies used and the reasonableness of accounting estimates made by management as well as evaluating the overall presentation of the consolidated financial statements. We believe that the audit evidence we have obtained in our audits is sufficient and appropriate to provide a basis for our audit opinion. Opinion In our opinion the consolidated financial statements present fairly in all material respects the financial position of Envoy Capital Group Inc. as at September and and the results of its operations and its cash flows for the three years ended September in accordance with Canadian generally accepted accounting principles.\n",
      "\n",
      "auditor_terms\n",
      "['Canadian generally accepted accounting principles.']\n",
      "\n",
      "notes_text\n",
      "financial statements included in this filing U.S. GAAP International Financial Reporting Standards as issued by the International Accounting Standards Board Other X Indicate by check mark which financial statement item the Registrant has elected to follow. Item X Item If this is an annual report indicate by check mark whether the Registrant is a shell company as defined in Rule of the Exchange Act. YES NO X Reconciliation The Consolidated Financial Statements have been prepared by management in accordance with Canadian Generally Accepted Accounting Principles\n",
      "and Financial Review and Prospects The following discussion should be read in conjunction with and is qualified in its entirety by the Consolidated Financial Statements of Envoy and the Notes relating thereto included as item in this Annual Report. The information contained in this Item refers to Financial Statements of Envoy which are presented in Canadian dollars and are prepared in accordance with Canadian GAAP. Canadian GAAP\n",
      "Consolidated Financial Statements have been prepared by management in accordance with generally accepted accounting principles\n",
      "in preparing its Financial Statements are described in Note to the Financial Statements and should be read to ensure a proper understanding and evaluation of the estimates and judgements made by management in preparing those Financial Statements. Envoys Financial Statements are prepared in accordance with Canadian generally accepted accounting\n",
      "to prepare an opening balance sheet in accordance with IFRS as at October\n",
      "in financial statements prepared in accordance with U.S. GAAP and IFRSs.\n",
      "Consolidated Financial Statements Expressed in Canadian dollars For the years ended September and Nature of Business Envoy Capital Group Inc. and its subsidiaries the Company under the Business Corporations Act Ontario operated in Canada the United States and Monaco during the year providing merchant banking and consumer and retail branding services. Basis of Presentation These consolidated financial statements have been prepared in accordance with Canadian generally accepted accounting\n",
      "Consolidated Financial Statements Expressed in Canadian dollars For the years ended September and Significant Accounting Policies continued b Use of Estimates The preparation of financial statements in conformity with Canadian GAAP requires management\n",
      "the financial statements of the Company. International Financial Reporting Standards IFRS IFRS is required to be adopted for most publicly accountable enterprises effectively for fiscal years beginning on or after January The Company thus will apply IFRS in fiscal The Company will require restatement for comparative purposes of amounts reported by the Company for the year ending September and accordingly the Company has prepared an opening balance sheet in accordance with IFRS as at October\n",
      "Consolidated Financial Statements Expressed in Canadian dollars For the years ended September and Significant Accounting Policies continued Investments Investments held for trading Publiclytraded investments Equities Derivatives Privately held investments Equities Total investments held for trading Investments Investment in capital pool company Total investments These consolidated financial statements have been prepared in accordance with Canadian GAAP. Set out\n",
      "in financial statements prepared in accordance with U.S. GAAP and IFRSs.\n",
      "is being prepared b Designed such internal control over financial reporting or caused such internal control over financial reporting to be designed under our supervision to provide reasonable assurance regarding the reliability of financial reporting and the preparation of financial statements for external purposes in accordance with generally accepted accounting\n",
      "is being prepared b Designed such internal control over financial reporting or caused such internal control over financial reporting to be designed under our supervision to provide reasonable assurance regarding the reliability of financial reporting and the preparation of financial statements for external purposes in accordance with generally accepted accounting\n",
      "\n",
      "notes_terms\n",
      "['Canadian Generally Accepted Accounting Principles', 'with Canadian GAAP. Canadian GAAP', 'with generally accepted accounting principles', 'with Canadian generally accepted accounting', 'with IFRS as at October', 'with U.S. GAAP and IFRSs.', 'with Canadian generally accepted accounting', 'with Canadian GAAP requires management', 'with IFRS as at October', 'with Canadian GAAP. Set out', 'with U.S. GAAP and IFRSs.', 'accordance with generally accepted accounting', 'accordance with generally accepted accounting']\n",
      "\n"
     ]
    }
   ],
   "source": [
    "for index, value in meta_df.loc[5, ['auditor_text', 'auditor_terms', 'notes_text', 'notes_terms']].items():\n",
    "    print(index)\n",
    "    print(value)\n",
    "    print()"
   ]
  },
  {
   "cell_type": "code",
   "execution_count": 433,
   "id": "dd916a5e-85a6-45e0-a29f-f09a193c0515",
   "metadata": {},
   "outputs": [
    {
     "data": {
      "text/plain": [
       "pandas.core.series.Series"
      ]
     },
     "execution_count": 433,
     "metadata": {},
     "output_type": "execute_result"
    }
   ],
   "source": [
    "type(meta_df.loc[5, ['auditor_text', 'auditor_terms', 'notes_text', 'notes_terms']])"
   ]
  },
  {
   "cell_type": "markdown",
   "id": "c225cf35-e23f-4489-b2b3-6c79144254cb",
   "metadata": {},
   "source": [
    "# Testing Area"
   ]
  },
  {
   "cell_type": "code",
   "execution_count": 346,
   "id": "108dd674-c081-4ca4-81b3-b238e1468d61",
   "metadata": {},
   "outputs": [],
   "source": [
    "detm = merged[~merged.hit_audit | ~merged.hit_notes].copy()\n",
    "mask = ~((detm.audit_std_page.isna() & detm.hit_notes) | (detm.notes_std_page.isna() & detm.hit_audit))"
   ]
  },
  {
   "cell_type": "code",
   "execution_count": 347,
   "id": "8baab0fd-3418-405d-88c3-2ce5ad0dbe50",
   "metadata": {},
   "outputs": [
    {
     "data": {
      "text/html": [
       "<div>\n",
       "<style scoped>\n",
       "    .dataframe tbody tr th:only-of-type {\n",
       "        vertical-align: middle;\n",
       "    }\n",
       "\n",
       "    .dataframe tbody tr th {\n",
       "        vertical-align: top;\n",
       "    }\n",
       "\n",
       "    .dataframe thead th {\n",
       "        text-align: right;\n",
       "    }\n",
       "</style>\n",
       "<table border=\"1\" class=\"dataframe\">\n",
       "  <thead>\n",
       "    <tr style=\"text-align: right;\">\n",
       "      <th></th>\n",
       "      <th>doc_id</th>\n",
       "      <th>doc_num_pages</th>\n",
       "      <th>notes</th>\n",
       "      <th>auditor</th>\n",
       "      <th>audit_std_page</th>\n",
       "      <th>notes_std_page</th>\n",
       "      <th>done</th>\n",
       "      <th>hit_notes</th>\n",
       "      <th>hit_audit</th>\n",
       "    </tr>\n",
       "  </thead>\n",
       "  <tbody>\n",
       "    <tr>\n",
       "      <th>0</th>\n",
       "      <td>22430067</td>\n",
       "      <td>51</td>\n",
       "      <td>[1, 6, 7, 21, 22, 31, 16]</td>\n",
       "      <td>[15]</td>\n",
       "      <td>16</td>\n",
       "      <td>21</td>\n",
       "      <td>Hala</td>\n",
       "      <td>True</td>\n",
       "      <td>False</td>\n",
       "    </tr>\n",
       "  </tbody>\n",
       "</table>\n",
       "</div>"
      ],
      "text/plain": [
       "     doc_id  doc_num_pages                      notes auditor  audit_std_page  \\\n",
       "0  22430067             51  [1, 6, 7, 21, 22, 31, 16]    [15]              16   \n",
       "\n",
       "   notes_std_page  done  hit_notes  hit_audit  \n",
       "0              21  Hala       True      False  "
      ]
     },
     "execution_count": 347,
     "metadata": {},
     "output_type": "execute_result"
    }
   ],
   "source": [
    "detm[mask].reset_index(drop=True)"
   ]
  },
  {
   "cell_type": "code",
   "execution_count": 348,
   "id": "ee163def-3136-4982-91f6-05172b0d7267",
   "metadata": {},
   "outputs": [
    {
     "name": "stdout",
     "output_type": "stream",
     "text": [
      "notes\n",
      "0 set()\n",
      "re.compile('account principl')\n",
      "re.compile('financi statement .*? prepar .*? with')\n",
      "1 {0, 2}\n",
      "2 set()\n",
      "3 set()\n",
      "re.compile('account principl')\n",
      "4 {0}\n",
      "5 set()\n",
      "re.compile('account polici')\n",
      "6 {0}\n",
      "re.compile('account polici')\n",
      "re.compile('financi report standard')\n",
      "re.compile('financi statement .*? prepar .*? with')\n",
      "7 {0, 1, 2}\n",
      "8 set()\n",
      "9 set()\n",
      "10 set()\n",
      "11 set()\n",
      "12 set()\n",
      "13 set()\n",
      "14 set()\n",
      "re.compile('account polici')\n",
      "re.compile('signific account polici')\n",
      "re.compile('financi statement .*? prepar .*? with')\n",
      "15 {0, 1, 2}\n",
      "['pwc independ auditor report to the sharehold of sirocco mine inc. we have audit the accompani consolid financi statement of sirocco mine inc. formerli known a atacama miner corp. and it subsidiari which compris the consolid balanc sheet a at decemb 31 2011 decemb 3 1 2010 and januari 1 2010 and the consolid statement of loss and comprehens loss cash flow and chang in equiti for the year end decemb 31 2011 and decemb 31 2010 and the relat note which compris a summari of signific account polici and other explanatori inform manag respons for the consolid financi statement manag is respons for the prepar and fair present of these consolid financi statement in accord with intern financi repot standard and for such intern control a manag determin is necessari to enabl the prepar of consolid financi statement that are free from materi misstat whether due to fraud or error auditor respons our respons is to express an opinion on these consolid financi statement base on our audit we conduct our audit in accord with canadian gener accept audit standard those standard requir that we compli with ethic requir and plan and perform the audit to obtain reason assur about whether the consolid financi statement are free from materi misstat an audit involv perform procedur to obtain audit evid about the amount and disclosur in the consolid financi statement the procedur select depend on the auditor judgment includ the ass of the risk of materi misstat of the consolid financi statement whether due to fraud or error in make those risk ass the auditor consid intern control relev to the entiti prepar and fair present of the consolid financi statement in order to design audit procedur that are appropri in the circumst but not for the purpos of express an opinion on the effect of the entiti intern control an audit also includ evalu the appropri of account polici use and the reason of account estim made by manag a well a evalu the overal present of the consolid financi statement we believ that the audit evid we have obtain in our audit is suffici and appropri to provid a basi for our audit opinion pricewaterhousecoop llp charter account pricewaterhousecoop place 250 howe street suit 700 vancouv british columbia canada v6c 3s7 t 1 604 8o6 7000 f 1 604 8o6 7806 www.pwc.comjca pwc refer to pricewaterhousecoop llp an ontario limit liabil partnership which is a member firm of pricewatemousecoop intern limit each member firm of which is a separ legal entiti']\n",
      "re.compile('financi report standard')\n",
      "16 {1}\n",
      "['we pinion our opinion the consist financi statement present wait in all materi respect the financi piston of sirocco mine ine and it ubieti a at decemb 31 deceb i 2010 and janay i 2010 and it financi perform and ash flow forth year end decemb i 2034 and dacemb i 2010 n accord with intern financi report standard priewalirpoutelegne llp charter account vancouverbc april i']\n",
      "17 set()\n",
      "18 set()\n",
      "19 set()\n",
      "20 set()\n",
      "re.compile('basi of present')\n",
      "re.compile('financi report standard')\n",
      "re.compile('financi statement .*? prepar .*? with')\n",
      "21 {0, 1, 2}\n",
      "re.compile('account polici')\n",
      "re.compile('signific account polici')\n",
      "22 {0, 1}\n",
      "23 set()\n",
      "24 set()\n",
      "25 set()\n",
      "26 set()\n",
      "27 set()\n",
      "28 set()\n",
      "29 set()\n",
      "30 set()\n",
      "re.compile('account polici')\n",
      "re.compile('financi .*? in accord with')\n",
      "31 {0, 2}\n",
      "32 set()\n",
      "33 set()\n",
      "34 set()\n",
      "35 set()\n",
      "36 set()\n",
      "37 set()\n",
      "38 set()\n",
      "39 set()\n",
      "40 set()\n",
      "41 set()\n",
      "42 set()\n",
      "43 set()\n",
      "44 set()\n",
      "45 set()\n",
      "46 set()\n",
      "47 set()\n",
      "48 set()\n",
      "49 set()\n",
      "50 set()\n",
      "auditor\n",
      "0 set()\n",
      "1 set()\n",
      "2 set()\n",
      "3 set()\n",
      "4 set()\n",
      "5 set()\n",
      "6 set()\n",
      "7 set()\n",
      "8 set()\n",
      "9 set()\n",
      "10 set()\n",
      "11 set()\n",
      "12 set()\n",
      "13 set()\n",
      "14 set()\n",
      "re.compile('have audit the')\n",
      "re.compile('manag .*? is respons for the prepar and fair present')\n",
      "re.compile('respons is to express an opinion')\n",
      "re.compile('conduct our audit in accord with')\n",
      "re.compile('an .*? audit involv')\n",
      "15 {0, 1, 2, 3, 4}\n",
      "['pwc independ auditor report to the sharehold of sirocco mine inc. we have audit the accompani consolid financi statement of sirocco mine inc. formerli known a atacama miner corp. and it subsidiari which compris the consolid balanc sheet a at decemb 31 2011 decemb 3 1 2010 and januari 1 2010 and the consolid statement of loss and comprehens loss cash flow and chang in equiti for the year end decemb 31 2011 and decemb 31 2010 and the relat note which compris a summari of signific account polici and other explanatori inform manag respons for the consolid financi statement manag is respons for the prepar and fair present of these consolid financi statement in accord with intern financi repot standard and for such intern control a manag determin is necessari to enabl the prepar of consolid financi statement that are free from materi misstat whether due to fraud or error auditor respons our respons is to express an opinion on these consolid financi statement base on our audit we conduct our audit in accord with canadian gener accept audit standard those standard requir that we compli with ethic requir and plan and perform the audit to obtain reason assur about whether the consolid financi statement are free from materi misstat an audit involv perform procedur to obtain audit evid about the amount and disclosur in the consolid financi statement the procedur select depend on the auditor judgment includ the ass of the risk of materi misstat of the consolid financi statement whether due to fraud or error in make those risk ass the auditor consid intern control relev to the entiti prepar and fair present of the consolid financi statement in order to design audit procedur that are appropri in the circumst but not for the purpos of express an opinion on the effect of the entiti intern control an audit also includ evalu the appropri of account polici use and the reason of account estim made by manag a well a evalu the overal present of the consolid financi statement we believ that the audit evid we have obtain in our audit is suffici and appropri to provid a basi for our audit opinion pricewaterhousecoop llp charter account pricewaterhousecoop place 250 howe street suit 700 vancouv british columbia canada v6c 3s7 t 1 604 8o6 7000 f 1 604 8o6 7806 www.pwc.comjca pwc refer to pricewaterhousecoop llp an ontario limit liabil partnership which is a member firm of pricewatemousecoop intern limit each member firm of which is a separ legal entiti']\n",
      "16 set()\n",
      "['we pinion our opinion the consist financi statement present wait in all materi respect the financi piston of sirocco mine ine and it ubieti a at decemb 31 deceb i 2010 and janay i 2010 and it financi perform and ash flow forth year end decemb i 2034 and dacemb i 2010 n accord with intern financi report standard priewalirpoutelegne llp charter account vancouverbc april i']\n",
      "17 set()\n",
      "18 set()\n",
      "19 set()\n",
      "20 set()\n",
      "21 set()\n",
      "22 set()\n",
      "23 set()\n",
      "24 set()\n",
      "25 set()\n",
      "26 set()\n",
      "27 set()\n",
      "28 set()\n",
      "29 set()\n",
      "30 set()\n",
      "31 set()\n",
      "32 set()\n",
      "33 set()\n",
      "34 set()\n",
      "35 set()\n",
      "36 set()\n",
      "37 set()\n",
      "38 set()\n",
      "39 set()\n",
      "40 set()\n",
      "41 set()\n",
      "42 set()\n",
      "43 set()\n",
      "44 set()\n",
      "45 set()\n",
      "46 set()\n",
      "47 set()\n",
      "48 set()\n",
      "49 set()\n",
      "50 set()\n"
     ]
    }
   ],
   "source": [
    "id = '22430067'\n",
    "path = paths_pdf_files[id]\n",
    "ex = PageNumberExtractor(doc_id = id,\n",
    "                         path = path,\n",
    "                         section_anchors = processed_section_anchors,\n",
    "                         min_anchor_hit_ratio = 0.5, \n",
    "                         flag_only_max_hits = False,\n",
    "                         flag_allow_overlapping_sections = False,  \n",
    "                         flag_adjust_real_page_num = False,\n",
    "                         flag_do_ocr = False,\n",
    "                         flag_allow_duplicate_hits_in_groups = True,\n",
    "                         sections_with_page_skip_groups = ['auditor'],\n",
    "                         thresh_ocr =100)\n",
    "result = ex.run()"
   ]
  },
  {
   "cell_type": "code",
   "execution_count": 299,
   "id": "20d10b32-3ce8-41a4-a277-b646595da317",
   "metadata": {},
   "outputs": [
    {
     "data": {
      "text/plain": [
       "{'doc_id': '63606537',\n",
       " 'doc_num_pages': 332,\n",
       " 'notes': [51,\n",
       "  54,\n",
       "  65,\n",
       "  128,\n",
       "  137,\n",
       "  148,\n",
       "  149,\n",
       "  151,\n",
       "  152,\n",
       "  154,\n",
       "  173,\n",
       "  181,\n",
       "  182,\n",
       "  185,\n",
       "  187,\n",
       "  196,\n",
       "  197,\n",
       "  205,\n",
       "  206,\n",
       "  207,\n",
       "  210,\n",
       "  213,\n",
       "  214,\n",
       "  215,\n",
       "  217,\n",
       "  218,\n",
       "  219,\n",
       "  220,\n",
       "  221,\n",
       "  273,\n",
       "  274,\n",
       "  275,\n",
       "  276,\n",
       "  277,\n",
       "  278,\n",
       "  279,\n",
       "  191],\n",
       " 'auditor': [192]}"
      ]
     },
     "execution_count": 299,
     "metadata": {},
     "output_type": "execute_result"
    }
   ],
   "source": [
    "result"
   ]
  },
  {
   "cell_type": "code",
   "execution_count": 341,
   "id": "e5c10d5b-53c8-4295-9bb9-5c52fc43c56f",
   "metadata": {},
   "outputs": [
    {
     "data": {
      "text/html": [
       "<div>\n",
       "<style scoped>\n",
       "    .dataframe tbody tr th:only-of-type {\n",
       "        vertical-align: middle;\n",
       "    }\n",
       "\n",
       "    .dataframe tbody tr th {\n",
       "        vertical-align: top;\n",
       "    }\n",
       "\n",
       "    .dataframe thead th {\n",
       "        text-align: right;\n",
       "    }\n",
       "</style>\n",
       "<table border=\"1\" class=\"dataframe\">\n",
       "  <thead>\n",
       "    <tr style=\"text-align: right;\">\n",
       "      <th></th>\n",
       "      <th>doc_id</th>\n",
       "      <th>doc_num_pages</th>\n",
       "      <th>notes</th>\n",
       "      <th>auditor</th>\n",
       "      <th>audit_std_page</th>\n",
       "      <th>notes_std_page</th>\n",
       "      <th>done</th>\n",
       "      <th>hit_notes</th>\n",
       "      <th>hit_audit</th>\n",
       "    </tr>\n",
       "  </thead>\n",
       "  <tbody>\n",
       "  </tbody>\n",
       "</table>\n",
       "</div>"
      ],
      "text/plain": [
       "Empty DataFrame\n",
       "Columns: [doc_id, doc_num_pages, notes, auditor, audit_std_page, notes_std_page, done, hit_notes, hit_audit]\n",
       "Index: []"
      ]
     },
     "execution_count": 341,
     "metadata": {},
     "output_type": "execute_result"
    }
   ],
   "source": [
    "merged[merged.audit_std_page.isna() | merged.notes_std_page.isna()]"
   ]
  },
  {
   "cell_type": "code",
   "execution_count": 286,
   "id": "58326231-8e83-4c33-8ad8-ac6d9b75bbcc",
   "metadata": {},
   "outputs": [
    {
     "data": {
      "text/plain": [
       "{'notes': [('basi of prepar',\n",
       "   'basi of present',\n",
       "   'basi of account',\n",
       "   'statement of complianc',\n",
       "   'account convent',\n",
       "   'present of account',\n",
       "   'base of prepar',\n",
       "   'account polici',\n",
       "   'account principl'),\n",
       "  ('summari of account polici',\n",
       "   'statement of complianc',\n",
       "   'signific account polici',\n",
       "   'financi report standard',\n",
       "   'basi of report',\n",
       "   'present of ... financi statement',\n",
       "   'appli rule'),\n",
       "  ('financi statement ... prepar ... with',\n",
       "   'financi ... in accord with',\n",
       "   'financi ... prepar ... accord to',\n",
       "   'prepar ... in accord with')],\n",
       " 'auditor': [('have audit the', 'ha audit the'),\n",
       "  ('manag ... is respons for the prepar and fair present',\n",
       "   'the prepar of the ... are the respons of',\n",
       "   'respons for prepar the ... in accord with',\n",
       "   'these consolid financi statement are the respons of',\n",
       "   'is respons for',\n",
       "   'director ... are respons for the prepar',\n",
       "   'are the respons of'),\n",
       "  ('respons is to express an opinion',\n",
       "   'respons is to audit the',\n",
       "   'our respons',\n",
       "   'my respons'),\n",
       "  ('conduct our audit in accord with',\n",
       "   'conduct our audit ... in accord with',\n",
       "   'conduct an independ audit in order to express an opinion',\n",
       "   'audit ha been perform in accord with',\n",
       "   'audit wa conduct'),\n",
       "  ('an ... audit involv', 'an ... audit includ'),\n",
       "  ('we believ that the ... audit evid we have obtain ... is suffici and appropri to provid a basi for our ... opinion',\n",
       "   'we believ that our audit provid a reason basi for our opinion',\n",
       "   'we believ that our audit provid a reason basi for our opinion',\n",
       "   'i believ that the ... audit evid i have obtain ... is suffici and appropri to provid a basi for my ... opinion',\n",
       "   'i believ that my audit provid a reason basi for my opinion',\n",
       "   'i believ that my audit provid a reason basi for my opinion',\n",
       "   'believ that the audit evid ... ha obtain is suffici and appropri to provid a basi'),\n",
       "  ('in our opinion ... fairli ... in all materi',\n",
       "   'in our opinion ... compli with',\n",
       "   'in our opinion ... true and fair view',\n",
       "   'in our opinion ... in accord with',\n",
       "   'in our opinion ... in conform withour opinion ... in accord with',\n",
       "   'in my opinion ... fairli ... in all materi',\n",
       "   'in my opinion ... compli with',\n",
       "   'in my opinion ... true and fair view',\n",
       "   'in my opinion ... in accord with',\n",
       "   'in my opinion ... in conform with',\n",
       "   'in the ... opinion ... in all materi respect')]}"
      ]
     },
     "execution_count": 286,
     "metadata": {},
     "output_type": "execute_result"
    }
   ],
   "source": [
    "processed_section_anchors"
   ]
  },
  {
   "cell_type": "code",
   "execution_count": null,
   "id": "a3eb5981-180c-4a36-a32b-db59eeed3e0c",
   "metadata": {},
   "outputs": [],
   "source": []
  }
 ],
 "metadata": {
  "kernelspec": {
   "display_name": "venv_text_cleaning",
   "language": "python",
   "name": "venv_text_cleaning"
  },
  "language_info": {
   "codemirror_mode": {
    "name": "ipython",
    "version": 3
   },
   "file_extension": ".py",
   "mimetype": "text/x-python",
   "name": "python",
   "nbconvert_exporter": "python",
   "pygments_lexer": "ipython3",
   "version": "3.9.5"
  }
 },
 "nbformat": 4,
 "nbformat_minor": 5
}
