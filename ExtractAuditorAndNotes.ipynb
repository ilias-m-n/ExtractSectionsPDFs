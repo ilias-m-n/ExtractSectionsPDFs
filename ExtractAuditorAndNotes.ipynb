{
 "cells": [
  {
   "cell_type": "markdown",
   "id": "25c67bac-91fb-4185-b159-22b8befc0f80",
   "metadata": {},
   "source": [
    "# Imports"
   ]
  },
  {
   "cell_type": "code",
   "execution_count": 1,
   "id": "b32d22ed-9f04-4030-bbfd-d64217777434",
   "metadata": {},
   "outputs": [
    {
     "data": {
      "text/html": [
       "<style>.container { width:100% !important; }</style>"
      ],
      "text/plain": [
       "<IPython.core.display.HTML object>"
      ]
     },
     "metadata": {},
     "output_type": "display_data"
    }
   ],
   "source": [
    "import re\n",
    "import os\n",
    "import pandas as pd\n",
    "import matplotlib.pyplot as plt\n",
    "from pprint import pprint\n",
    "import time\n",
    "\n",
    "import utility.utility as util\n",
    "from utility.Extractor import PageNumberExtractor, PageTextExtractor, TermExtractor\n",
    "import utility.text_cleaning as tc\n",
    "import utility.extractor_meta as em\n",
    "from datetime import datetime\n",
    "\n",
    "# Progress Bars:\n",
    "from tqdm import tqdm\n",
    "from tqdm.notebook import tqdm_notebook\n",
    "tqdm_notebook.pandas()\n",
    "\n",
    "# Below import and instructions simply for display\n",
    "from IPython.display import display, HTML, clear_output\n",
    "display(HTML(\"<style>.container { width:100% !important; }</style>\"))\n",
    "\n",
    "# resets import once changes have been applied\n",
    "%load_ext autoreload\n",
    "%autoreload 2"
   ]
  },
  {
   "cell_type": "markdown",
   "id": "a4c417cf-4598-45cf-87a9-95dc7fb2233a",
   "metadata": {},
   "source": [
    "# Paths"
   ]
  },
  {
   "cell_type": "code",
   "execution_count": 2,
   "id": "d165cb2f-ddba-4d43-9c87-4c9b54588695",
   "metadata": {},
   "outputs": [],
   "source": [
    "path_cwd = os.getcwd()\n",
    "path_data = os.path.join(path_cwd, 'data')\n",
    "path_raw_pdf = os.path.join(path_data, 'raw_pdf_files')\n",
    "path_raw_txt = os.path.join(path_data, 'raw_text_files')\n",
    "path_output = os.path.join(path_cwd, 'output')"
   ]
  },
  {
   "cell_type": "markdown",
   "id": "0d14aec2-e506-4c71-a9ea-243f1dfd7319",
   "metadata": {},
   "source": [
    "## File paths"
   ]
  },
  {
   "cell_type": "code",
   "execution_count": 3,
   "id": "fcecaef7-d42e-44d2-930e-1b3afad7e41c",
   "metadata": {},
   "outputs": [
    {
     "data": {
      "text/plain": [
       "183"
      ]
     },
     "execution_count": 3,
     "metadata": {},
     "output_type": "execute_result"
    }
   ],
   "source": [
    "paths_pdf_files = {file.split('.')[0]: os.path.join(path_raw_pdf, file) for file in os.listdir(path_raw_pdf) if file != '.gitkeep'}\n",
    "ids = list(set(paths_pdf_files.keys()))\n",
    "len(ids)"
   ]
  },
  {
   "cell_type": "markdown",
   "id": "46a06ade-a5d4-4871-aca2-1a6b3b66e8a6",
   "metadata": {},
   "source": [
    "# Prepare Sections Anchors"
   ]
  },
  {
   "cell_type": "code",
   "execution_count": 4,
   "id": "7b1eb0bc-0d43-4458-ac90-1a81485b243f",
   "metadata": {},
   "outputs": [],
   "source": [
    "section_anchors = {'notes': em._notes_sections, 'auditor': em._auditor_sections}\n",
    "processed_section_anchors = util.process_section_anchors(section_anchors)"
   ]
  },
  {
   "cell_type": "markdown",
   "id": "8404e169-86c4-46af-ac58-fbc311310ae5",
   "metadata": {},
   "source": [
    "# Create Extractors - rewrite to only create class during execution, saves memory"
   ]
  },
  {
   "cell_type": "code",
   "execution_count": 5,
   "id": "68d6fc78-d1a5-4976-9e70-81739677f2c9",
   "metadata": {},
   "outputs": [
    {
     "name": "stderr",
     "output_type": "stream",
     "text": [
      "100%|███████████████████████████████████████████████████████████| 183/183 [00:00<00:00, 94573.39it/s]\n"
     ]
    }
   ],
   "source": [
    "page_num_extractors = {k: PageNumberExtractor(doc_id = k,\n",
    "                                              path = v,\n",
    "                                              section_anchors = processed_section_anchors,\n",
    "                                              min_anchor_hit_ratio = 0.5, \n",
    "                                              flag_only_max_hits = False,\n",
    "                                              flag_allow_overlapping_sections = False,                                              \n",
    "                                              flag_adjust_real_page_num = False,\n",
    "                                              flag_do_ocr = False,\n",
    "                                              flag_allow_duplicate_hits_in_groups = True,\n",
    "                                              sections_with_page_skip_groups = ['auditor'],\n",
    "                                              thresh_ocr =100) for k, v in tqdm(paths_pdf_files.items())}"
   ]
  },
  {
   "cell_type": "code",
   "execution_count": null,
   "id": "600e74f3-5534-43e5-b3e7-22acbbd791c5",
   "metadata": {},
   "outputs": [],
   "source": [
    "results = []\n",
    "for id in tqdm(page_num_extractors):\n",
    "    e = page_num_extractors[id]\n",
    "    results.append(e.run())\n",
    "    del e\n",
    "result_df = pd.DataFrame(results)"
   ]
  },
  {
   "cell_type": "code",
   "execution_count": null,
   "id": "d7e4e72d-5a3b-4d45-8d0a-0192377b1495",
   "metadata": {},
   "outputs": [],
   "source": [
    "test_df = pd.read_excel(os.path.join(path_data, 'testing_meta', 'sample_8april3.xlsx'))\n",
    "test_df = test_df['doc_id audit_std_page notes_std_page done'.split()].copy()\n",
    "test_df['audit_std_page'] = pd.to_numeric(test_df['audit_std_page'], errors='coerce').astype('Int64') - 1 \n",
    "test_df['notes_std_page'] = pd.to_numeric(test_df['notes_std_page'], errors='coerce').astype('Int64') - 1\n",
    "test_df['doc_id'] = test_df['doc_id'].astype(str)\n",
    "test_df2 = pd.read_excel(os.path.join(path_data, 'testing_meta', 'fix_Sara_9_43.xlsx'))\n",
    "test_df2 = test_df2['doc_id audit_std_page notes_std_page'.split()].copy()\n",
    "test_df2['audit_std_page'] = pd.to_numeric(test_df2['audit_std_page'], errors='coerce').astype('Int64') - 1 \n",
    "test_df2['notes_std_page'] = pd.to_numeric(test_df2['notes_std_page'], errors='coerce').astype('Int64') - 1\n",
    "test_df2['doc_id'] = test_df2['doc_id'].astype(str)\n",
    "\n",
    "for index, row in test_df2.iterrows():\n",
    "    test_df.loc[test_df.doc_id == row.doc_id, 'audit_std_page'] = row.audit_std_page\n",
    "    test_df.loc[test_df.doc_id == row.doc_id, 'notes_std_page'] = row.notes_std_page"
   ]
  },
  {
   "cell_type": "code",
   "execution_count": null,
   "id": "ada8a9f1-1fa8-4cdb-8dcb-409793051ebc",
   "metadata": {},
   "outputs": [],
   "source": [
    "merged = pd.merge(result_df, test_df, on='doc_id', how='left')\n"
   ]
  },
  {
   "cell_type": "code",
   "execution_count": null,
   "id": "b1734ff7-f273-46f7-aa37-649d93a19fc6",
   "metadata": {},
   "outputs": [],
   "source": [
    "merged['hit_notes'] = merged.apply(lambda x: (x.notes_std_page in x.notes) if pd.notna(x.notes_std_page) else False, axis=1)\n",
    "merged['hit_audit'] = merged.apply(lambda x: (x.audit_std_page in x.auditor) if pd.notna(x.audit_std_page) else False, axis=1)"
   ]
  },
  {
   "cell_type": "code",
   "execution_count": null,
   "id": "2912f965-547d-47c5-9b11-2cb456082dbb",
   "metadata": {},
   "outputs": [],
   "source": [
    "def calc_acc(df, section):\n",
    "    df = df[[f'hit_{section}']].copy()\n",
    "    mask_True = df[f'hit_{section}'] == True\n",
    "    hits = df[mask_True].count()\n",
    "    mask_valid = df[f'hit_{section}'].isin([True, False])\n",
    "    valid =df[mask_valid].count()\n",
    "    return hits/valid\n",
    "\n",
    "print('notes: ',calc_acc(merged, 'notes'))\n",
    "print('auditor: ',calc_acc(merged, 'audit'))"
   ]
  },
  {
   "cell_type": "markdown",
   "id": "12c18117-8190-4ca9-b717-d0235c2271aa",
   "metadata": {},
   "source": [
    "# Save Found Page Numbers"
   ]
  },
  {
   "cell_type": "code",
   "execution_count": null,
   "id": "126ef44a-5b5a-4c0c-a036-b0952701778b",
   "metadata": {},
   "outputs": [],
   "source": [
    "curr_time = datetime.now().strftime(\"%Y_%m_%d_%H_%M\")\n",
    "result_df.to_parquet(os.path.join(path_output, f\"page_nums_{curr_time}.parquet\"), index=False)"
   ]
  },
  {
   "cell_type": "markdown",
   "id": "279bbf36-52d9-46bb-98ad-9acf2ad0eaed",
   "metadata": {},
   "source": [
    "# Extract Pages and prep text"
   ]
  },
  {
   "cell_type": "markdown",
   "id": "6711fcdb-8579-494b-93b0-4355b332bc55",
   "metadata": {},
   "source": [
    "## Load Meta Page File"
   ]
  },
  {
   "cell_type": "code",
   "execution_count": 7,
   "id": "7f96a20a-e1b9-41ed-bfd9-bad8a23d98c6",
   "metadata": {},
   "outputs": [],
   "source": [
    "file = \"page_nums_2024_04_18_03_31.parquet\"\n",
    "sections = ['auditor', 'notes']\n",
    "meta_df = pd.read_parquet(os.path.join(path_output, file))"
   ]
  },
  {
   "cell_type": "code",
   "execution_count": 8,
   "id": "bcbcf8d8-eeaf-4a20-b016-022f2f7c4e4e",
   "metadata": {},
   "outputs": [],
   "source": [
    "meta_df['path_doc'] = meta_df.doc_id.apply(lambda x: os.path.join(path_raw_pdf, f\"{x}.pdf\"))"
   ]
  },
  {
   "cell_type": "code",
   "execution_count": 9,
   "id": "7ee3808e-735d-4b74-9346-01610c6a26a3",
   "metadata": {},
   "outputs": [],
   "source": [
    "meta_ids = meta_df['doc_id'].values"
   ]
  },
  {
   "cell_type": "code",
   "execution_count": null,
   "id": "223d94f9-a7d3-441f-b9a6-15736d3b3a29",
   "metadata": {},
   "outputs": [],
   "source": [
    "extraction_anchors = {'notes': em._notes_standards, 'auditor': em._auditor_standards}\n",
    "processed_extraction_anchors = util.process_section_anchors(extraction_anchors)"
   ]
  },
  {
   "cell_type": "code",
   "execution_count": null,
   "id": "f75ab7f7-387f-4ad8-9729-85154f0d7d5e",
   "metadata": {},
   "outputs": [],
   "source": [
    "results = {}\n",
    "for index, row in tqdm(meta_df.iterrows()):\n",
    "    path = row.path_doc\n",
    "    id = row.doc_id\n",
    "    for section in sections:\n",
    "        if f\"{section}_terms\" not in meta_df.columns:\n",
    "            meta_df[f\"{section}_terms\"] = None\n",
    "            meta_df[f\"{section}_terms\"] = meta_df[f\"{section}_terms\"].astype('object')\n",
    "        sections_pages = row[section]\n",
    "        key = tuple([id, section])\n",
    "        results[key] = PageTextExtractor(doc_id = id, \n",
    "                                         path = path, \n",
    "                                         section = section, \n",
    "                                         page_nums = sections_pages, \n",
    "                                         flag_reduce = False, \n",
    "                                         anchors = processed_extraction_anchors[section], \n",
    "                                         anchor_add_word_window = 20, \n",
    "                                         allowance_wildcards_reg_matches = 400,\n",
    "                                         flag_do_ocr = False).run()\n",
    "        meta_df.loc[meta_df.doc_id == id,f\"{section}_num_tokens\"] = results[key][1]\n",
    "        meta_df.loc[meta_df.doc_id == id,f\"{section}_text\"] = results[key][0]\n",
    "        meta_df.at[index,f\"{section}_terms\"] = results[key][2]"
   ]
  },
  {
   "cell_type": "code",
   "execution_count": null,
   "id": "2b40f9ed-8463-4e07-9f56-54c7367c66f9",
   "metadata": {},
   "outputs": [],
   "source": [
    "cols_num_tokens = [col for col in meta_df.columns if \"num_tokens\" in col]\n",
    "if 'total_num_tokens' in meta_df.columns:\n",
    "    meta_df['total_num_tokens'] = 0\n",
    "meta_df['total_num_tokens'] = meta_df[cols_num_tokens].sum(axis=1)"
   ]
  },
  {
   "cell_type": "code",
   "execution_count": null,
   "id": "8066c81d-9b6e-46a6-b8f2-7e42a39af8d8",
   "metadata": {},
   "outputs": [],
   "source": [
    "meta_df.auditor_num_tokens.describe()"
   ]
  },
  {
   "cell_type": "code",
   "execution_count": null,
   "id": "d4fef54e-1c04-4473-94d0-eaaba24e8f3d",
   "metadata": {},
   "outputs": [],
   "source": [
    "meta_df.loc[2]"
   ]
  },
  {
   "cell_type": "code",
   "execution_count": null,
   "id": "3b00e845-ce97-4361-9b79-26d91cc2b64b",
   "metadata": {},
   "outputs": [],
   "source": [
    "for index, value in meta_df.loc[1, ['auditor_text', 'auditor_terms', 'notes_text', 'notes_terms']].items():\n",
    "    print(index)\n",
    "    print(value)\n",
    "    print()"
   ]
  },
  {
   "cell_type": "code",
   "execution_count": 16,
   "id": "db3924a8-f28b-4ff8-abe6-fc91767a3560",
   "metadata": {},
   "outputs": [
    {
     "data": {
      "text/html": [
       "<div>\n",
       "<style scoped>\n",
       "    .dataframe tbody tr th:only-of-type {\n",
       "        vertical-align: middle;\n",
       "    }\n",
       "\n",
       "    .dataframe tbody tr th {\n",
       "        vertical-align: top;\n",
       "    }\n",
       "\n",
       "    .dataframe thead th {\n",
       "        text-align: right;\n",
       "    }\n",
       "</style>\n",
       "<table border=\"1\" class=\"dataframe\">\n",
       "  <thead>\n",
       "    <tr style=\"text-align: right;\">\n",
       "      <th></th>\n",
       "      <th>doc_id</th>\n",
       "      <th>doc_num_pages</th>\n",
       "      <th>notes</th>\n",
       "      <th>auditor</th>\n",
       "      <th>path_doc</th>\n",
       "    </tr>\n",
       "  </thead>\n",
       "  <tbody>\n",
       "    <tr>\n",
       "      <th>0</th>\n",
       "      <td>21175204</td>\n",
       "      <td>15</td>\n",
       "      <td>[6, 9, 12]</td>\n",
       "      <td>[2]</td>\n",
       "      <td>C:\\Users\\ilias\\Desktop\\UniMaResearch2023\\Extra...</td>\n",
       "    </tr>\n",
       "    <tr>\n",
       "      <th>1</th>\n",
       "      <td>22399065</td>\n",
       "      <td>50</td>\n",
       "      <td>[18, 19, 21, 29, 30, 31, 32]</td>\n",
       "      <td>[25]</td>\n",
       "      <td>C:\\Users\\ilias\\Desktop\\UniMaResearch2023\\Extra...</td>\n",
       "    </tr>\n",
       "    <tr>\n",
       "      <th>2</th>\n",
       "      <td>22415158</td>\n",
       "      <td>48</td>\n",
       "      <td>[8, 11, 12, 14, 31, 33, 23]</td>\n",
       "      <td>[24, 25]</td>\n",
       "      <td>C:\\Users\\ilias\\Desktop\\UniMaResearch2023\\Extra...</td>\n",
       "    </tr>\n",
       "    <tr>\n",
       "      <th>3</th>\n",
       "      <td>22430067</td>\n",
       "      <td>51</td>\n",
       "      <td>[1, 6, 7, 21, 22, 31, 16]</td>\n",
       "      <td>[15]</td>\n",
       "      <td>C:\\Users\\ilias\\Desktop\\UniMaResearch2023\\Extra...</td>\n",
       "    </tr>\n",
       "    <tr>\n",
       "      <th>4</th>\n",
       "      <td>22430199</td>\n",
       "      <td>116</td>\n",
       "      <td>[22, 47, 49, 50, 62, 63, 64, 65, 66, 67, 68, 6...</td>\n",
       "      <td>[52, 53, 54, 55, 56]</td>\n",
       "      <td>C:\\Users\\ilias\\Desktop\\UniMaResearch2023\\Extra...</td>\n",
       "    </tr>\n",
       "  </tbody>\n",
       "</table>\n",
       "</div>"
      ],
      "text/plain": [
       "     doc_id  doc_num_pages                                              notes  \\\n",
       "0  21175204             15                                         [6, 9, 12]   \n",
       "1  22399065             50                       [18, 19, 21, 29, 30, 31, 32]   \n",
       "2  22415158             48                        [8, 11, 12, 14, 31, 33, 23]   \n",
       "3  22430067             51                          [1, 6, 7, 21, 22, 31, 16]   \n",
       "4  22430199            116  [22, 47, 49, 50, 62, 63, 64, 65, 66, 67, 68, 6...   \n",
       "\n",
       "                auditor                                           path_doc  \n",
       "0                   [2]  C:\\Users\\ilias\\Desktop\\UniMaResearch2023\\Extra...  \n",
       "1                  [25]  C:\\Users\\ilias\\Desktop\\UniMaResearch2023\\Extra...  \n",
       "2              [24, 25]  C:\\Users\\ilias\\Desktop\\UniMaResearch2023\\Extra...  \n",
       "3                  [15]  C:\\Users\\ilias\\Desktop\\UniMaResearch2023\\Extra...  \n",
       "4  [52, 53, 54, 55, 56]  C:\\Users\\ilias\\Desktop\\UniMaResearch2023\\Extra...  "
      ]
     },
     "execution_count": 16,
     "metadata": {},
     "output_type": "execute_result"
    }
   ],
   "source": [
    "meta_df.head()"
   ]
  },
  {
   "cell_type": "markdown",
   "id": "c225cf35-e23f-4489-b2b3-6c79144254cb",
   "metadata": {},
   "source": [
    "# Testing Area"
   ]
  },
  {
   "cell_type": "code",
   "execution_count": 32,
   "id": "c089f587-84b8-4443-a25c-2a9403c25dd0",
   "metadata": {},
   "outputs": [],
   "source": [
    "extraction_anchors = {'notes': em._notes_standards, 'auditor': em._auditor_standards}\n",
    "processed_extraction_anchors = util.process_section_anchors(extraction_anchors)"
   ]
  },
  {
   "cell_type": "code",
   "execution_count": 44,
   "id": "9dbda79b-37af-4128-9ae6-63ac57c7d3e5",
   "metadata": {},
   "outputs": [
    {
     "name": "stdout",
     "output_type": "stream",
     "text": [
      "[52 53 54 55 56]\n",
      "{58: [(8, 319)]}\n"
     ]
    },
    {
     "ename": "AttributeError",
     "evalue": "'TermExtractor' object has no attribute 'prepare_results'",
     "output_type": "error",
     "traceback": [
      "\u001b[1;31m---------------------------------------------------------------------------\u001b[0m",
      "\u001b[1;31mAttributeError\u001b[0m                            Traceback (most recent call last)",
      "Cell \u001b[1;32mIn[44], line 17\u001b[0m\n\u001b[0;32m      6\u001b[0m key \u001b[38;5;241m=\u001b[39m \u001b[38;5;28mtuple\u001b[39m([\u001b[38;5;28mid\u001b[39m, section])\n\u001b[0;32m      7\u001b[0m text \u001b[38;5;241m=\u001b[39m PageTextExtractor(doc_id \u001b[38;5;241m=\u001b[39m \u001b[38;5;28mid\u001b[39m, \n\u001b[0;32m      8\u001b[0m                                  path \u001b[38;5;241m=\u001b[39m path,\n\u001b[0;32m      9\u001b[0m                                  section \u001b[38;5;241m=\u001b[39m section,\n\u001b[1;32m   (...)\u001b[0m\n\u001b[0;32m     14\u001b[0m                                  allowance_wildcards_reg_matches \u001b[38;5;241m=\u001b[39m \u001b[38;5;241m400\u001b[39m,\n\u001b[0;32m     15\u001b[0m                                  flag_do_ocr \u001b[38;5;241m=\u001b[39m \u001b[38;5;28;01mFalse\u001b[39;00m)\u001b[38;5;241m.\u001b[39mrun()\n\u001b[1;32m---> 17\u001b[0m term \u001b[38;5;241m=\u001b[39m \u001b[43mTermExtractor\u001b[49m\u001b[43m(\u001b[49m\u001b[43mdoc_id\u001b[49m\u001b[43m \u001b[49m\u001b[38;5;241;43m=\u001b[39;49m\u001b[43m \u001b[49m\u001b[38;5;28;43mid\u001b[39;49m\u001b[43m,\u001b[49m\u001b[43m \u001b[49m\n\u001b[0;32m     18\u001b[0m \u001b[43m                     \u001b[49m\u001b[43mpath\u001b[49m\u001b[43m \u001b[49m\u001b[38;5;241;43m=\u001b[39;49m\u001b[43m \u001b[49m\u001b[43mpath\u001b[49m\u001b[43m,\u001b[49m\n\u001b[0;32m     19\u001b[0m \u001b[43m                     \u001b[49m\u001b[43msection\u001b[49m\u001b[43m \u001b[49m\u001b[38;5;241;43m=\u001b[39;49m\u001b[43m \u001b[49m\u001b[43msection\u001b[49m\u001b[43m,\u001b[49m\n\u001b[0;32m     20\u001b[0m \u001b[43m                     \u001b[49m\u001b[43mpage_nums\u001b[49m\u001b[43m \u001b[49m\u001b[38;5;241;43m=\u001b[39;49m\u001b[43m \u001b[49m\u001b[43msections_pages\u001b[49m\u001b[43m,\u001b[49m\u001b[43m \u001b[49m\n\u001b[0;32m     21\u001b[0m \u001b[43m                     \u001b[49m\u001b[43manchors\u001b[49m\u001b[43m \u001b[49m\u001b[38;5;241;43m=\u001b[39;49m\u001b[43m \u001b[49m\u001b[43mprocessed_extraction_anchors\u001b[49m\u001b[43m[\u001b[49m\u001b[43msection\u001b[49m\u001b[43m]\u001b[49m\u001b[43m,\u001b[49m\u001b[43m \u001b[49m\n\u001b[0;32m     22\u001b[0m \u001b[43m                     \u001b[49m\u001b[43manchor_add_word_window\u001b[49m\u001b[43m \u001b[49m\u001b[38;5;241;43m=\u001b[39;49m\u001b[43m \u001b[49m\u001b[38;5;241;43m20\u001b[39;49m\u001b[43m,\u001b[49m\u001b[43m \u001b[49m\n\u001b[0;32m     23\u001b[0m \u001b[43m                     \u001b[49m\u001b[43mallowance_wildcards_reg_matches\u001b[49m\u001b[43m \u001b[49m\u001b[38;5;241;43m=\u001b[39;49m\u001b[43m \u001b[49m\u001b[38;5;241;43m400\u001b[39;49m\u001b[43m,\u001b[49m\n\u001b[0;32m     24\u001b[0m \u001b[43m                     \u001b[49m\u001b[43mflag_capture_surrounding_sentences\u001b[49m\u001b[43m \u001b[49m\u001b[38;5;241;43m=\u001b[39;49m\u001b[43m \u001b[49m\u001b[38;5;28;43;01mTrue\u001b[39;49;00m\u001b[43m,\u001b[49m\n\u001b[0;32m     25\u001b[0m \u001b[43m                     \u001b[49m\u001b[43msurrounding_sentences_margin\u001b[49m\u001b[43m \u001b[49m\u001b[38;5;241;43m=\u001b[39;49m\u001b[43m \u001b[49m\u001b[38;5;241;43m2\u001b[39;49m\u001b[43m,\u001b[49m\n\u001b[0;32m     26\u001b[0m \u001b[43m                     \u001b[49m\u001b[43mflag_do_ocr\u001b[49m\u001b[43m \u001b[49m\u001b[38;5;241;43m=\u001b[39;49m\u001b[43m \u001b[49m\u001b[38;5;28;43;01mFalse\u001b[39;49;00m\u001b[43m)\u001b[49m\u001b[38;5;241;43m.\u001b[39;49m\u001b[43mrun\u001b[49m\u001b[43m(\u001b[49m\u001b[43m)\u001b[49m\n",
      "File \u001b[1;32m~\\Desktop\\UniMaResearch2023\\ExtractSectionsFinstmts\\utility\\Extractor.py:73\u001b[0m, in \u001b[0;36mTermExtractor.run\u001b[1;34m(self)\u001b[0m\n\u001b[0;32m     71\u001b[0m \u001b[38;5;28mself\u001b[39m\u001b[38;5;241m.\u001b[39mfind_anchor_hits()\n\u001b[0;32m     72\u001b[0m \u001b[38;5;28mself\u001b[39m\u001b[38;5;241m.\u001b[39mprocess_anchor_hits()\n\u001b[1;32m---> 73\u001b[0m \u001b[38;5;28;43mself\u001b[39;49m\u001b[38;5;241;43m.\u001b[39;49m\u001b[43mprepare_results\u001b[49m()\n\u001b[0;32m     74\u001b[0m \u001b[38;5;28;01mreturn\u001b[39;00m \u001b[38;5;28mself\u001b[39m\u001b[38;5;241m.\u001b[39mreturn_results()\n",
      "\u001b[1;31mAttributeError\u001b[0m: 'TermExtractor' object has no attribute 'prepare_results'"
     ]
    }
   ],
   "source": [
    "id = '22430199'\n",
    "path = paths_pdf_files[id]\n",
    "section = 'auditor'\n",
    "sections_pages = meta_df.loc[meta_df.doc_id == id][section].values[0]\n",
    "print(sections_pages)\n",
    "key = tuple([id, section])\n",
    "text = PageTextExtractor(doc_id = id, \n",
    "                                 path = path,\n",
    "                                 section = section,\n",
    "                                 page_nums = sections_pages,\n",
    "                                 flag_reduce = True,\n",
    "                                 anchors = processed_extraction_anchors[section],\n",
    "                                 anchor_add_word_window = 20,\n",
    "                                 allowance_wildcards_reg_matches = 400,\n",
    "                                 flag_do_ocr = False).run()\n",
    "\n",
    "term = TermExtractor(doc_id = id, \n",
    "                     path = path,\n",
    "                     section = section,\n",
    "                     page_nums = sections_pages, \n",
    "                     anchors = processed_extraction_anchors[section], \n",
    "                     anchor_add_word_window = 20, \n",
    "                     allowance_wildcards_reg_matches = 400,\n",
    "                     flag_capture_surrounding_sentences = True,\n",
    "                     surrounding_sentences_margin = 2,\n",
    "                     flag_do_ocr = False).run()\n",
    "\n"
   ]
  },
  {
   "cell_type": "code",
   "execution_count": null,
   "id": "d4c0e164-37a9-401d-a0b7-f95c94367277",
   "metadata": {},
   "outputs": [],
   "source": [
    "import re\n",
    "\n",
    "pattern = 'in our opinion .{,300}? the .{,300}? consolid financi statement .{,300}? in accord with'\n",
    "text = \"in our opinion the consolid financi statement present fairli in all materi respect the consolid financi posit of westport innov inc. a at decemb 31 2011 and march 31 2011 and it consolid result of oper and it consolid cash flow for the ninemonth period end decemb 31 2011 and the year end march 31 2011 and march 31 2010 in accord with gener accept account principl in the unit state\"\n",
    "\n",
    "# Use the regex to search the text\n",
    "match = re.search(pattern, text)\n",
    "\n",
    "if match:\n",
    "    print(\"Match found:\", match.group())\n",
    "else:\n",
    "    print(\"No match found.\")"
   ]
  },
  {
   "cell_type": "code",
   "execution_count": null,
   "id": "108dd674-c081-4ca4-81b3-b238e1468d61",
   "metadata": {},
   "outputs": [],
   "source": [
    "detm = merged[~merged.hit_audit | ~merged.hit_notes].copy()\n",
    "mask = ~((detm.audit_std_page.isna() & detm.hit_notes) | (detm.notes_std_page.isna() & detm.hit_audit))"
   ]
  },
  {
   "cell_type": "code",
   "execution_count": null,
   "id": "8baab0fd-3418-405d-88c3-2ce5ad0dbe50",
   "metadata": {},
   "outputs": [],
   "source": [
    "detm[mask].reset_index(drop=True)"
   ]
  },
  {
   "cell_type": "code",
   "execution_count": null,
   "id": "ee163def-3136-4982-91f6-05172b0d7267",
   "metadata": {},
   "outputs": [],
   "source": [
    "id = '22430067'\n",
    "path = paths_pdf_files[id]\n",
    "ex = PageNumberExtractor(doc_id = id,\n",
    "                         path = path,\n",
    "                         section_anchors = processed_section_anchors,\n",
    "                         min_anchor_hit_ratio = 0.5, \n",
    "                         flag_only_max_hits = False,\n",
    "                         flag_allow_overlapping_sections = False,  \n",
    "                         flag_adjust_real_page_num = False,\n",
    "                         flag_do_ocr = False,\n",
    "                         flag_allow_duplicate_hits_in_groups = True,\n",
    "                         sections_with_page_skip_groups = ['auditor'],\n",
    "                         thresh_ocr =100)\n",
    "result = ex.run()"
   ]
  },
  {
   "cell_type": "code",
   "execution_count": null,
   "id": "20d10b32-3ce8-41a4-a277-b646595da317",
   "metadata": {},
   "outputs": [],
   "source": [
    "result"
   ]
  },
  {
   "cell_type": "code",
   "execution_count": null,
   "id": "e5c10d5b-53c8-4295-9bb9-5c52fc43c56f",
   "metadata": {},
   "outputs": [],
   "source": [
    "merged[merged.audit_std_page.isna() | merged.notes_std_page.isna()]"
   ]
  },
  {
   "cell_type": "code",
   "execution_count": null,
   "id": "58326231-8e83-4c33-8ad8-ac6d9b75bbcc",
   "metadata": {},
   "outputs": [],
   "source": [
    "processed_section_anchors"
   ]
  },
  {
   "cell_type": "code",
   "execution_count": null,
   "id": "a3eb5981-180c-4a36-a32b-db59eeed3e0c",
   "metadata": {},
   "outputs": [],
   "source": [
    "ls = []\n",
    "if ls:\n",
    "    print(123)"
   ]
  },
  {
   "cell_type": "code",
   "execution_count": null,
   "id": "457d504f-ee24-4fec-9ac5-84d5551d04d2",
   "metadata": {},
   "outputs": [],
   "source": []
  }
 ],
 "metadata": {
  "kernelspec": {
   "display_name": "venv_text_cleaning",
   "language": "python",
   "name": "venv_text_cleaning"
  },
  "language_info": {
   "codemirror_mode": {
    "name": "ipython",
    "version": 3
   },
   "file_extension": ".py",
   "mimetype": "text/x-python",
   "name": "python",
   "nbconvert_exporter": "python",
   "pygments_lexer": "ipython3",
   "version": "3.9.5"
  }
 },
 "nbformat": 4,
 "nbformat_minor": 5
}
