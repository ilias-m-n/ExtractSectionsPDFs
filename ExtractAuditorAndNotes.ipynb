{
 "cells": [
  {
   "cell_type": "markdown",
   "id": "25c67bac-91fb-4185-b159-22b8befc0f80",
   "metadata": {},
   "source": [
    "# Imports"
   ]
  },
  {
   "cell_type": "code",
   "execution_count": 1,
   "id": "b32d22ed-9f04-4030-bbfd-d64217777434",
   "metadata": {},
   "outputs": [
    {
     "data": {
      "text/html": [
       "<style>.container { width:100% !important; }</style>"
      ],
      "text/plain": [
       "<IPython.core.display.HTML object>"
      ]
     },
     "metadata": {},
     "output_type": "display_data"
    }
   ],
   "source": [
    "import re\n",
    "import os\n",
    "import pandas as pd\n",
    "from pprint import pprint\n",
    "\n",
    "import utility.utility as util\n",
    "from utility.Extractor import Extractor\n",
    "import utility.text_cleaning as tc\n",
    "import utility.extractor_meta as em\n",
    "\n",
    "# Progress Bars:\n",
    "from tqdm import tqdm\n",
    "from tqdm.notebook import tqdm_notebook\n",
    "tqdm_notebook.pandas()\n",
    "\n",
    "# Below import and instructions simply for display\n",
    "from IPython.display import display, HTML, clear_output\n",
    "display(HTML(\"<style>.container { width:100% !important; }</style>\"))\n",
    "\n",
    "# resets import once changes have been applied\n",
    "%load_ext autoreload\n",
    "%autoreload 2"
   ]
  },
  {
   "cell_type": "markdown",
   "id": "a4c417cf-4598-45cf-87a9-95dc7fb2233a",
   "metadata": {},
   "source": [
    "# Paths"
   ]
  },
  {
   "cell_type": "code",
   "execution_count": 2,
   "id": "d165cb2f-ddba-4d43-9c87-4c9b54588695",
   "metadata": {},
   "outputs": [],
   "source": [
    "path_cwd = os.getcwd()\n",
    "path_data = os.path.join(path_cwd, 'data')\n",
    "path_raw_pdf = os.path.join(path_data, 'raw_pdf_files')\n",
    "path_raw_txt = os.path.join(path_data, 'raw_text_files')\n",
    "path_output = os.path.join(path_cwd, 'output')"
   ]
  },
  {
   "cell_type": "markdown",
   "id": "0d14aec2-e506-4c71-a9ea-243f1dfd7319",
   "metadata": {},
   "source": [
    "## File paths"
   ]
  },
  {
   "cell_type": "code",
   "execution_count": 19,
   "id": "fcecaef7-d42e-44d2-930e-1b3afad7e41c",
   "metadata": {},
   "outputs": [],
   "source": [
    "paths_pdf_files = {file.split('.')[0]: os.path.join(path_raw_pdf, file) for file in os.listdir(path_raw_pdf)}\n",
    "ids = list(paths_pdf_files.keys())"
   ]
  },
  {
   "cell_type": "markdown",
   "id": "46a06ade-a5d4-4871-aca2-1a6b3b66e8a6",
   "metadata": {},
   "source": [
    "# Prepare Sections Anchors"
   ]
  },
  {
   "cell_type": "code",
   "execution_count": 20,
   "id": "7b1eb0bc-0d43-4458-ac90-1a81485b243f",
   "metadata": {},
   "outputs": [],
   "source": [
    "section_anchors = {'notes': em._notes_sections, 'auditor': em._auditor_sections}"
   ]
  },
  {
   "cell_type": "markdown",
   "id": "8404e169-86c4-46af-ac58-fbc311310ae5",
   "metadata": {},
   "source": [
    "# Create Extractors"
   ]
  },
  {
   "cell_type": "code",
   "execution_count": 21,
   "id": "68d6fc78-d1a5-4976-9e70-81739677f2c9",
   "metadata": {},
   "outputs": [
    {
     "name": "stderr",
     "output_type": "stream",
     "text": [
      "100%|██████████████████████████████████████████████████████████████████████████████████████| 17/17 [00:00<00:00, 106.19it/s]\n"
     ]
    }
   ],
   "source": [
    "extractors = {k: Extractor(k, v, section_anchors, 0.5) for k, v in tqdm(paths_pdf_files.items())}"
   ]
  },
  {
   "cell_type": "code",
   "execution_count": 22,
   "id": "600e74f3-5534-43e5-b3e7-22acbbd791c5",
   "metadata": {},
   "outputs": [
    {
     "name": "stdout",
     "output_type": "stream",
     "text": [
      "200018069\n",
      "notes\n",
      "[(11, 2)]\n",
      "auditor\n",
      "[(11, 6)]\n",
      "\n",
      "22032523\n",
      "notes\n",
      "[(82, 3), (19, 2), (51, 2), (75, 2), (128, 2)]\n",
      "auditor\n",
      "[(76, 7), (77, 5)]\n",
      "\n",
      "60665866\n",
      "notes\n",
      "[(157, 2), (201, 2)]\n",
      "auditor\n",
      "[]\n",
      "\n",
      "60784900\n",
      "notes\n",
      "[(44, 3), (45, 3), (82, 3), (46, 2), (47, 2), (86, 2)]\n",
      "auditor\n",
      "[(86, 4)]\n",
      "\n",
      "60816306\n",
      "notes\n",
      "[(95, 3), (96, 3), (166, 3), (34, 2), (162, 2), (163, 2)]\n",
      "auditor\n",
      "[(171, 7), (162, 4)]\n",
      "\n",
      "61029873\n",
      "notes\n",
      "[(112, 3), (2, 2), (4, 2)]\n",
      "auditor\n",
      "[(202, 8)]\n",
      "\n",
      "61178281\n",
      "notes\n",
      "[(24, 3), (51, 3), (41, 2), (43, 2), (44, 2), (52, 2)]\n",
      "auditor\n",
      "[(43, 6)]\n",
      "\n",
      "61466756\n",
      "notes\n",
      "[(20, 2), (25, 2)]\n",
      "auditor\n",
      "[(20, 7)]\n",
      "\n",
      "61635511\n",
      "notes\n",
      "[(316, 3), (426, 3), (35, 2), (253, 2), (298, 2), (306, 2), (308, 2)]\n",
      "auditor\n",
      "[(308, 5)]\n",
      "\n",
      "61681491\n",
      "notes\n",
      "[(167, 3), (4, 2), (99, 2), (157, 2), (169, 2)]\n",
      "auditor\n",
      "[(160, 7)]\n",
      "\n",
      "62075442\n",
      "notes\n",
      "[(40, 3), (41, 3), (124, 3), (125, 3), (29, 2), (30, 2), (107, 2), (110, 2), (111, 2), (112, 2)]\n",
      "auditor\n",
      "[(29, 6), (111, 6), (110, 5)]\n",
      "\n",
      "62461170\n",
      "notes\n",
      "[(51, 3), (43, 2), (53, 2), (54, 2), (56, 2), (59, 2), (61, 2), (62, 2)]\n",
      "auditor\n",
      "[(43, 7)]\n",
      "\n",
      "62609130\n",
      "notes\n",
      "[(95, 3), (66, 2), (84, 2), (98, 2), (103, 2), (121, 2)]\n",
      "auditor\n",
      "[(84, 8), (81, 4)]\n",
      "\n",
      "62912156\n",
      "notes\n",
      "[(49, 3), (33, 2), (39, 2), (40, 2)]\n",
      "auditor\n",
      "[(40, 6)]\n",
      "\n",
      "63530197\n",
      "notes\n",
      "[(129, 3), (130, 3), (134, 3), (135, 3), (147, 3), (114, 2), (119, 2), (131, 2), (132, 2), (136, 2), (137, 2), (144, 2), (146, 2), (148, 2), (175, 2), (201, 2)]\n",
      "auditor\n",
      "[(116, 6), (119, 6)]\n",
      "\n",
      "63695491\n",
      "notes\n",
      "[(51, 3), (76, 3), (40, 2), (64, 2)]\n",
      "auditor\n",
      "[(40, 6), (64, 6)]\n",
      "\n",
      "64866413\n",
      "notes\n",
      "[(46, 3), (54, 3), (69, 3), (76, 3), (47, 2), (70, 2)]\n",
      "auditor\n",
      "[(46, 6), (69, 6), (49, 4)]\n",
      "\n"
     ]
    }
   ],
   "source": [
    "for id in extractors:\n",
    "    e = extractors[id]\n",
    "    e.run()\n",
    "    print(id)\n",
    "    for section, v in e.found_section_pages.items():\n",
    "        print(section)\n",
    "        print(sorted(v.items(), key=lambda item: item[1], reverse=True))\n",
    "    print()"
   ]
  },
  {
   "cell_type": "code",
   "execution_count": null,
   "id": "38034ee7-5156-4892-8168-317c7c66bb71",
   "metadata": {},
   "outputs": [],
   "source": []
  },
  {
   "cell_type": "code",
   "execution_count": null,
   "id": "126ef44a-5b5a-4c0c-a036-b0952701778b",
   "metadata": {},
   "outputs": [],
   "source": []
  },
  {
   "cell_type": "code",
   "execution_count": null,
   "id": "b28965ad-e750-46c1-ba9b-e60fb8b62142",
   "metadata": {},
   "outputs": [],
   "source": []
  }
 ],
 "metadata": {
  "kernelspec": {
   "display_name": "venv_text_cleaning",
   "language": "python",
   "name": "venv_text_cleaning"
  },
  "language_info": {
   "codemirror_mode": {
    "name": "ipython",
    "version": 3
   },
   "file_extension": ".py",
   "mimetype": "text/x-python",
   "name": "python",
   "nbconvert_exporter": "python",
   "pygments_lexer": "ipython3",
   "version": "3.9.5"
  }
 },
 "nbformat": 4,
 "nbformat_minor": 5
}
