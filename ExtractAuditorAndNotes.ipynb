{
 "cells": [
  {
   "cell_type": "markdown",
   "id": "25c67bac-91fb-4185-b159-22b8befc0f80",
   "metadata": {},
   "source": [
    "# Imports"
   ]
  },
  {
   "cell_type": "code",
   "execution_count": 151,
   "id": "b32d22ed-9f04-4030-bbfd-d64217777434",
   "metadata": {},
   "outputs": [
    {
     "data": {
      "text/html": [
       "<style>.container { width:100% !important; }</style>"
      ],
      "text/plain": [
       "<IPython.core.display.HTML object>"
      ]
     },
     "metadata": {},
     "output_type": "display_data"
    },
    {
     "name": "stdout",
     "output_type": "stream",
     "text": [
      "The autoreload extension is already loaded. To reload it, use:\n",
      "  %reload_ext autoreload\n"
     ]
    }
   ],
   "source": [
    "import re\n",
    "import os\n",
    "import pandas as pd\n",
    "from pprint import pprint\n",
    "\n",
    "import utility.utility as util\n",
    "from utility.Extractor import PageNumberExtractor, PageTextExtractor\n",
    "import utility.text_cleaning as tc\n",
    "import utility.extractor_meta as em\n",
    "\n",
    "# Progress Bars:\n",
    "from tqdm import tqdm\n",
    "from tqdm.notebook import tqdm_notebook\n",
    "tqdm_notebook.pandas()\n",
    "\n",
    "# Below import and instructions simply for display\n",
    "from IPython.display import display, HTML, clear_output\n",
    "display(HTML(\"<style>.container { width:100% !important; }</style>\"))\n",
    "\n",
    "# resets import once changes have been applied\n",
    "%load_ext autoreload\n",
    "%autoreload 2"
   ]
  },
  {
   "cell_type": "markdown",
   "id": "a4c417cf-4598-45cf-87a9-95dc7fb2233a",
   "metadata": {},
   "source": [
    "# Paths"
   ]
  },
  {
   "cell_type": "code",
   "execution_count": 2,
   "id": "d165cb2f-ddba-4d43-9c87-4c9b54588695",
   "metadata": {},
   "outputs": [],
   "source": [
    "path_cwd = os.getcwd()\n",
    "path_data = os.path.join(path_cwd, 'data')\n",
    "path_raw_pdf = os.path.join(path_data, 'raw_pdf_files')\n",
    "path_raw_txt = os.path.join(path_data, 'raw_text_files')\n",
    "path_output = os.path.join(path_cwd, 'output')"
   ]
  },
  {
   "cell_type": "markdown",
   "id": "0d14aec2-e506-4c71-a9ea-243f1dfd7319",
   "metadata": {},
   "source": [
    "## File paths"
   ]
  },
  {
   "cell_type": "code",
   "execution_count": 7,
   "id": "fcecaef7-d42e-44d2-930e-1b3afad7e41c",
   "metadata": {},
   "outputs": [],
   "source": [
    "paths_pdf_files = {file.split('.')[0]: os.path.join(path_raw_pdf, file) for file in os.listdir(path_raw_pdf) if file != '.gitkeep'}\n",
    "ids = list(paths_pdf_files.keys())"
   ]
  },
  {
   "cell_type": "markdown",
   "id": "46a06ade-a5d4-4871-aca2-1a6b3b66e8a6",
   "metadata": {},
   "source": [
    "# Prepare Sections Anchors"
   ]
  },
  {
   "cell_type": "code",
   "execution_count": 51,
   "id": "7b1eb0bc-0d43-4458-ac90-1a81485b243f",
   "metadata": {},
   "outputs": [],
   "source": [
    "section_anchors = {'notes': em._notes_sections, 'auditor': em._auditor_sections}"
   ]
  },
  {
   "cell_type": "markdown",
   "id": "8404e169-86c4-46af-ac58-fbc311310ae5",
   "metadata": {},
   "source": [
    "# Create Extractors"
   ]
  },
  {
   "cell_type": "code",
   "execution_count": 148,
   "id": "68d6fc78-d1a5-4976-9e70-81739677f2c9",
   "metadata": {},
   "outputs": [
    {
     "name": "stderr",
     "output_type": "stream",
     "text": [
      "100%|███████████████████████████████████████████████████████████████████████████████████████| 17/17 [00:00<00:00, 91.04it/s]\n"
     ]
    }
   ],
   "source": [
    "extractors = {k: Extractor(k, v, section_anchors, 0.5, False, False, True) for k, v in tqdm(paths_pdf_files.items())}"
   ]
  },
  {
   "cell_type": "code",
   "execution_count": 149,
   "id": "600e74f3-5534-43e5-b3e7-22acbbd791c5",
   "metadata": {},
   "outputs": [
    {
     "name": "stderr",
     "output_type": "stream",
     "text": [
      "100%|███████████████████████████████████████████████████████████████████████████████████████| 17/17 [00:40<00:00,  2.40s/it]\n"
     ]
    }
   ],
   "source": [
    "results = []\n",
    "for id in tqdm(extractors):\n",
    "    e = extractors[id]\n",
    "    results.append(e.run())\n",
    "result_df = pd.DataFrame(results)"
   ]
  },
  {
   "cell_type": "code",
   "execution_count": 150,
   "id": "126ef44a-5b5a-4c0c-a036-b0952701778b",
   "metadata": {},
   "outputs": [
    {
     "data": {
      "text/html": [
       "<div>\n",
       "<style scoped>\n",
       "    .dataframe tbody tr th:only-of-type {\n",
       "        vertical-align: middle;\n",
       "    }\n",
       "\n",
       "    .dataframe tbody tr th {\n",
       "        vertical-align: top;\n",
       "    }\n",
       "\n",
       "    .dataframe thead th {\n",
       "        text-align: right;\n",
       "    }\n",
       "</style>\n",
       "<table border=\"1\" class=\"dataframe\">\n",
       "  <thead>\n",
       "    <tr style=\"text-align: right;\">\n",
       "      <th></th>\n",
       "      <th>doc_id</th>\n",
       "      <th>notes</th>\n",
       "      <th>auditor</th>\n",
       "    </tr>\n",
       "  </thead>\n",
       "  <tbody>\n",
       "    <tr>\n",
       "      <th>0</th>\n",
       "      <td>200018069</td>\n",
       "      <td>[]</td>\n",
       "      <td>[11]</td>\n",
       "    </tr>\n",
       "    <tr>\n",
       "      <th>1</th>\n",
       "      <td>22032523</td>\n",
       "      <td>[19, 51, 75, 82, 128]</td>\n",
       "      <td>[76, 77]</td>\n",
       "    </tr>\n",
       "    <tr>\n",
       "      <th>2</th>\n",
       "      <td>60665866</td>\n",
       "      <td>[157, 201]</td>\n",
       "      <td>[]</td>\n",
       "    </tr>\n",
       "    <tr>\n",
       "      <th>3</th>\n",
       "      <td>60784900</td>\n",
       "      <td>[26, 27, 44, 45, 46, 47, 52, 53, 82]</td>\n",
       "      <td>[86]</td>\n",
       "    </tr>\n",
       "    <tr>\n",
       "      <th>4</th>\n",
       "      <td>60816306</td>\n",
       "      <td>[34, 95, 96, 97, 98, 151, 152, 166]</td>\n",
       "      <td>[162, 163, 171]</td>\n",
       "    </tr>\n",
       "    <tr>\n",
       "      <th>5</th>\n",
       "      <td>61029873</td>\n",
       "      <td>[2, 4, 112, 191, 192]</td>\n",
       "      <td>[202]</td>\n",
       "    </tr>\n",
       "    <tr>\n",
       "      <th>6</th>\n",
       "      <td>61178281</td>\n",
       "      <td>[24, 41, 51, 52]</td>\n",
       "      <td>[43, 44]</td>\n",
       "    </tr>\n",
       "    <tr>\n",
       "      <th>7</th>\n",
       "      <td>61466756</td>\n",
       "      <td>[25]</td>\n",
       "      <td>[20]</td>\n",
       "    </tr>\n",
       "    <tr>\n",
       "      <th>8</th>\n",
       "      <td>61635511</td>\n",
       "      <td>[35, 253, 298, 306, 316, 426]</td>\n",
       "      <td>[308]</td>\n",
       "    </tr>\n",
       "    <tr>\n",
       "      <th>9</th>\n",
       "      <td>61681491</td>\n",
       "      <td>[4, 99, 157, 167, 169]</td>\n",
       "      <td>[160]</td>\n",
       "    </tr>\n",
       "    <tr>\n",
       "      <th>10</th>\n",
       "      <td>62075442</td>\n",
       "      <td>[40, 41, 107, 124, 125]</td>\n",
       "      <td>[29, 30, 110, 111, 112]</td>\n",
       "    </tr>\n",
       "    <tr>\n",
       "      <th>11</th>\n",
       "      <td>62461170</td>\n",
       "      <td>[51, 53, 54, 56, 59, 61, 62]</td>\n",
       "      <td>[43]</td>\n",
       "    </tr>\n",
       "    <tr>\n",
       "      <th>12</th>\n",
       "      <td>62609130</td>\n",
       "      <td>[66, 67, 95, 96, 97, 98, 103, 121]</td>\n",
       "      <td>[81, 84]</td>\n",
       "    </tr>\n",
       "    <tr>\n",
       "      <th>13</th>\n",
       "      <td>62912156</td>\n",
       "      <td>[33, 39, 49]</td>\n",
       "      <td>[40]</td>\n",
       "    </tr>\n",
       "    <tr>\n",
       "      <th>14</th>\n",
       "      <td>63530197</td>\n",
       "      <td>[114, 129, 130, 131, 132, 134, 135, 136, 137, ...</td>\n",
       "      <td>[116, 117, 119]</td>\n",
       "    </tr>\n",
       "    <tr>\n",
       "      <th>15</th>\n",
       "      <td>63695491</td>\n",
       "      <td>[17, 18, 51, 76]</td>\n",
       "      <td>[40, 64]</td>\n",
       "    </tr>\n",
       "    <tr>\n",
       "      <th>16</th>\n",
       "      <td>64866413</td>\n",
       "      <td>[47, 54, 70, 76]</td>\n",
       "      <td>[46, 49, 50, 69, 71, 72]</td>\n",
       "    </tr>\n",
       "  </tbody>\n",
       "</table>\n",
       "</div>"
      ],
      "text/plain": [
       "       doc_id                                              notes  \\\n",
       "0   200018069                                                 []   \n",
       "1    22032523                              [19, 51, 75, 82, 128]   \n",
       "2    60665866                                         [157, 201]   \n",
       "3    60784900               [26, 27, 44, 45, 46, 47, 52, 53, 82]   \n",
       "4    60816306                [34, 95, 96, 97, 98, 151, 152, 166]   \n",
       "5    61029873                              [2, 4, 112, 191, 192]   \n",
       "6    61178281                                   [24, 41, 51, 52]   \n",
       "7    61466756                                               [25]   \n",
       "8    61635511                      [35, 253, 298, 306, 316, 426]   \n",
       "9    61681491                             [4, 99, 157, 167, 169]   \n",
       "10   62075442                            [40, 41, 107, 124, 125]   \n",
       "11   62461170                       [51, 53, 54, 56, 59, 61, 62]   \n",
       "12   62609130                 [66, 67, 95, 96, 97, 98, 103, 121]   \n",
       "13   62912156                                       [33, 39, 49]   \n",
       "14   63530197  [114, 129, 130, 131, 132, 134, 135, 136, 137, ...   \n",
       "15   63695491                                   [17, 18, 51, 76]   \n",
       "16   64866413                                   [47, 54, 70, 76]   \n",
       "\n",
       "                     auditor  \n",
       "0                       [11]  \n",
       "1                   [76, 77]  \n",
       "2                         []  \n",
       "3                       [86]  \n",
       "4            [162, 163, 171]  \n",
       "5                      [202]  \n",
       "6                   [43, 44]  \n",
       "7                       [20]  \n",
       "8                      [308]  \n",
       "9                      [160]  \n",
       "10   [29, 30, 110, 111, 112]  \n",
       "11                      [43]  \n",
       "12                  [81, 84]  \n",
       "13                      [40]  \n",
       "14           [116, 117, 119]  \n",
       "15                  [40, 64]  \n",
       "16  [46, 49, 50, 69, 71, 72]  "
      ]
     },
     "execution_count": 150,
     "metadata": {},
     "output_type": "execute_result"
    }
   ],
   "source": [
    "result_df"
   ]
  },
  {
   "cell_type": "markdown",
   "id": "279bbf36-52d9-46bb-98ad-9acf2ad0eaed",
   "metadata": {},
   "source": [
    "# Extract Pages and prep text"
   ]
  },
  {
   "cell_type": "code",
   "execution_count": null,
   "id": "f75ab7f7-387f-4ad8-9729-85154f0d7d5e",
   "metadata": {},
   "outputs": [],
   "source": []
  }
 ],
 "metadata": {
  "kernelspec": {
   "display_name": "venv_text_cleaning",
   "language": "python",
   "name": "venv_text_cleaning"
  },
  "language_info": {
   "codemirror_mode": {
    "name": "ipython",
    "version": 3
   },
   "file_extension": ".py",
   "mimetype": "text/x-python",
   "name": "python",
   "nbconvert_exporter": "python",
   "pygments_lexer": "ipython3",
   "version": "3.9.5"
  }
 },
 "nbformat": 4,
 "nbformat_minor": 5
}
