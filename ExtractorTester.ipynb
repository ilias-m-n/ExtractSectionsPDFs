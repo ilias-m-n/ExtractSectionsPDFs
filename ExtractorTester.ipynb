{
 "cells": [
  {
   "cell_type": "markdown",
   "id": "25c67bac-91fb-4185-b159-22b8befc0f80",
   "metadata": {},
   "source": [
    "# Imports"
   ]
  },
  {
   "cell_type": "code",
   "execution_count": 358,
   "id": "b32d22ed-9f04-4030-bbfd-d64217777434",
   "metadata": {},
   "outputs": [
    {
     "data": {
      "text/html": [
       "<style>.container { width:100% !important; }</style>"
      ],
      "text/plain": [
       "<IPython.core.display.HTML object>"
      ]
     },
     "metadata": {},
     "output_type": "display_data"
    },
    {
     "name": "stdout",
     "output_type": "stream",
     "text": [
      "The autoreload extension is already loaded. To reload it, use:\n",
      "  %reload_ext autoreload\n"
     ]
    }
   ],
   "source": [
    "import re\n",
    "import os\n",
    "import pandas as pd\n",
    "import matplotlib.pyplot as plt\n",
    "from pprint import pprint\n",
    "import time\n",
    "\n",
    "import utility.utility as util\n",
    "from utility.Extractor import PageNumberExtractor, PageTextExtractor, TermExtractor\n",
    "import utility.text_cleaning as tc\n",
    "import utility.extractor_meta as em\n",
    "from datetime import datetime\n",
    "\n",
    "# Progress Bars:\n",
    "from tqdm import tqdm\n",
    "from tqdm.notebook import tqdm_notebook\n",
    "tqdm_notebook.pandas()\n",
    "\n",
    "# Below import and instructions simply for display\n",
    "from IPython.display import display, HTML, clear_output\n",
    "display(HTML(\"<style>.container { width:100% !important; }</style>\"))\n",
    "\n",
    "# resets import once changes have been applied\n",
    "%load_ext autoreload\n",
    "%autoreload 2"
   ]
  },
  {
   "cell_type": "code",
   "execution_count": 359,
   "id": "35e1d66e-d8fa-4c97-bf78-e91afe6b6abb",
   "metadata": {},
   "outputs": [],
   "source": [
    "import nltk\n",
    "nltk.data.path[:] = ['Q:\\\\Nasri\\\\utilities\\\\nltk_data']"
   ]
  },
  {
   "cell_type": "markdown",
   "id": "a4c417cf-4598-45cf-87a9-95dc7fb2233a",
   "metadata": {},
   "source": [
    "# Paths"
   ]
  },
  {
   "cell_type": "code",
   "execution_count": 360,
   "id": "d165cb2f-ddba-4d43-9c87-4c9b54588695",
   "metadata": {},
   "outputs": [],
   "source": [
    "path_cwd = os.getcwd()\n",
    "path_data = os.path.join(path_cwd, 'data')\n",
    "path_raw_pdf = os.path.join(path_data, 'raw_pdf_files')\n",
    "path_input_meta = os.path.join(path_data, 'input_meta')\n",
    "path_testing_meta = os.path.join(path_data, 'testing_meta')"
   ]
  },
  {
   "cell_type": "markdown",
   "id": "c579132b-4cb2-4f31-a8bd-29674933d4c1",
   "metadata": {},
   "source": [
    "# Load Meta"
   ]
  },
  {
   "cell_type": "code",
   "execution_count": 361,
   "id": "7194d822-8aa6-4462-9c68-e95a4e5a0185",
   "metadata": {},
   "outputs": [
    {
     "data": {
      "text/html": [
       "<div>\n",
       "<style scoped>\n",
       "    .dataframe tbody tr th:only-of-type {\n",
       "        vertical-align: middle;\n",
       "    }\n",
       "\n",
       "    .dataframe tbody tr th {\n",
       "        vertical-align: top;\n",
       "    }\n",
       "\n",
       "    .dataframe thead th {\n",
       "        text-align: right;\n",
       "    }\n",
       "</style>\n",
       "<table border=\"1\" class=\"dataframe\">\n",
       "  <thead>\n",
       "    <tr style=\"text-align: right;\">\n",
       "      <th></th>\n",
       "      <th>doc_id</th>\n",
       "      <th>doc_path</th>\n",
       "    </tr>\n",
       "  </thead>\n",
       "  <tbody>\n",
       "    <tr>\n",
       "      <th>0</th>\n",
       "      <td>21175204</td>\n",
       "      <td>L:/pi_documents/documents_raw/acrobat_pdf_docu...</td>\n",
       "    </tr>\n",
       "    <tr>\n",
       "      <th>1</th>\n",
       "      <td>22399065</td>\n",
       "      <td>L:/pi_documents/documents_raw/acrobat_pdf_docu...</td>\n",
       "    </tr>\n",
       "    <tr>\n",
       "      <th>2</th>\n",
       "      <td>22415158</td>\n",
       "      <td>L:/pi_documents/documents_raw/pdf_navigator/22...</td>\n",
       "    </tr>\n",
       "    <tr>\n",
       "      <th>3</th>\n",
       "      <td>22430067</td>\n",
       "      <td>L:/pi_documents/documents_raw/pdf_navigator/22...</td>\n",
       "    </tr>\n",
       "    <tr>\n",
       "      <th>4</th>\n",
       "      <td>22430199</td>\n",
       "      <td>L:/pi_documents/documents_raw/pdf_navigator/22...</td>\n",
       "    </tr>\n",
       "    <tr>\n",
       "      <th>...</th>\n",
       "      <td>...</td>\n",
       "      <td>...</td>\n",
       "    </tr>\n",
       "    <tr>\n",
       "      <th>546</th>\n",
       "      <td>63471748</td>\n",
       "      <td>L:/pi_documents/documents_raw/pdf_navigator/63...</td>\n",
       "    </tr>\n",
       "    <tr>\n",
       "      <th>547</th>\n",
       "      <td>63688600</td>\n",
       "      <td>L:/pi_documents/documents_raw/pdf_navigator/63...</td>\n",
       "    </tr>\n",
       "    <tr>\n",
       "      <th>548</th>\n",
       "      <td>65265662</td>\n",
       "      <td>L:/pi_documents/documents_raw/acrobat_pdf_docu...</td>\n",
       "    </tr>\n",
       "    <tr>\n",
       "      <th>549</th>\n",
       "      <td>64651583</td>\n",
       "      <td>L:/pi_documents/documents_raw/pdf_navigator/64...</td>\n",
       "    </tr>\n",
       "    <tr>\n",
       "      <th>550</th>\n",
       "      <td>64730675</td>\n",
       "      <td>L:/pi_documents/documents_raw/pdf_navigator/64...</td>\n",
       "    </tr>\n",
       "  </tbody>\n",
       "</table>\n",
       "<p>551 rows × 2 columns</p>\n",
       "</div>"
      ],
      "text/plain": [
       "       doc_id                                           doc_path\n",
       "0    21175204  L:/pi_documents/documents_raw/acrobat_pdf_docu...\n",
       "1    22399065  L:/pi_documents/documents_raw/acrobat_pdf_docu...\n",
       "2    22415158  L:/pi_documents/documents_raw/pdf_navigator/22...\n",
       "3    22430067  L:/pi_documents/documents_raw/pdf_navigator/22...\n",
       "4    22430199  L:/pi_documents/documents_raw/pdf_navigator/22...\n",
       "..        ...                                                ...\n",
       "546  63471748  L:/pi_documents/documents_raw/pdf_navigator/63...\n",
       "547  63688600  L:/pi_documents/documents_raw/pdf_navigator/63...\n",
       "548  65265662  L:/pi_documents/documents_raw/acrobat_pdf_docu...\n",
       "549  64651583  L:/pi_documents/documents_raw/pdf_navigator/64...\n",
       "550  64730675  L:/pi_documents/documents_raw/pdf_navigator/64...\n",
       "\n",
       "[551 rows x 2 columns]"
      ]
     },
     "execution_count": 361,
     "metadata": {},
     "output_type": "execute_result"
    }
   ],
   "source": [
    "meta_input = pd.read_csv(os.path.join(path_input_meta, 'full_test.csv'))\n",
    "meta_input"
   ]
  },
  {
   "cell_type": "markdown",
   "id": "9d617151-fa3b-4fdc-87d8-179586f71f6e",
   "metadata": {},
   "source": [
    "# Load Evaluation Data"
   ]
  },
  {
   "cell_type": "code",
   "execution_count": 372,
   "id": "f7b666a6-cf30-4070-b61b-67832b311d8c",
   "metadata": {},
   "outputs": [],
   "source": [
    "testing_meta = pd.read_csv(os.path.join(path_testing_meta, 'ult_test.csv'))"
   ]
  },
  {
   "cell_type": "markdown",
   "id": "b93acdf8-905e-44d9-af90-a855402b210b",
   "metadata": {},
   "source": [
    "# Test Page Number Extractor"
   ]
  },
  {
   "cell_type": "markdown",
   "id": "5ec2c75d-1144-4e46-a2d6-29654c34da5f",
   "metadata": {},
   "source": [
    "### Single Test"
   ]
  },
  {
   "cell_type": "code",
   "execution_count": 983,
   "id": "d1cbec20-e864-49f9-b44f-85f907612332",
   "metadata": {},
   "outputs": [],
   "source": [
    "section_anchors = {'notes': em._notes_sections, 'auditor': em._auditor_sections}\n",
    "processed_section_anchors = util.process_section_anchors(section_anchors)\n",
    "processed_section_anchors = {key: [util.prep_extract_anchors(a, '400') for v in value for a in v] for key, value in processed_section_anchors.items()}"
   ]
  },
  {
   "cell_type": "code",
   "execution_count": 1012,
   "id": "578342e6-2d1e-4db8-80e5-e810e7c324ee",
   "metadata": {},
   "outputs": [
    {
     "name": "stdout",
     "output_type": "stream",
     "text": [
      "notes\n",
      "34 {1, 2, 3}\n",
      "142 {2, 3}\n",
      "252 {0, 1}\n",
      "261 {2, 3}\n",
      "264 {2, 3}\n",
      "267 {2, 3}\n",
      "297 {0, 1, 2, 3}\n",
      "298 {2, 3}\n",
      "301 {2, 3}\n",
      "305 {0, 2, 3}\n",
      "307 {0, 1, 2, 3}\n",
      "315 {0, 2, 3}\n",
      "324 {0, 1}\n",
      "425 {0, 1, 2, 3}\n",
      "434 {2, 3}\n",
      "485 {0, 2, 3}\n",
      "auditor\n",
      "267 {6, 7}\n",
      "307 {0, 1, 2, 4, 6, 7}\n"
     ]
    },
    {
     "data": {
      "text/plain": [
       "{'doc_id': '61635511.pdf',\n",
       " 'doc_path': 'L:/pi_documents/documents_raw/pdf_navigator/61635511.pdf',\n",
       " 'doc_num_pages': 489,\n",
       " 'notes': [34,\n",
       "  142,\n",
       "  252,\n",
       "  261,\n",
       "  264,\n",
       "  267,\n",
       "  297,\n",
       "  298,\n",
       "  301,\n",
       "  305,\n",
       "  315,\n",
       "  324,\n",
       "  425,\n",
       "  434,\n",
       "  485],\n",
       " 'auditor': [306, 307]}"
      ]
     },
     "execution_count": 1012,
     "metadata": {},
     "output_type": "execute_result"
    }
   ],
   "source": [
    "doc_id = 22032523\n",
    "\n",
    "\n",
    "#mmtest.iloc[17:,:]['doc_id'].values[0]\n",
    "section_anchors = {'notes': em._notes_sections, 'auditor': em._auditor_sections}\n",
    "processed_section_anchors = util.process_section_anchors(section_anchors)\n",
    "\n",
    "keep = 61145036, 60359654, 64036845\n",
    "doc_id = doc_id\n",
    "doc_path = 'L:/pi_documents/documents_raw/pdf_navigator/61635511.pdf'\n",
    "doc_id = doc_path.split('/')[-1]\n",
    "#doc_path = meta_input.loc[meta_input.doc_id == doc_id, \"doc_path\"].values[0]\n",
    "\n",
    "res = PageNumberExtractor(doc_id=doc_id,\n",
    "                          path=doc_path,\n",
    "                          section_anchors=processed_section_anchors,\n",
    "                          min_anchor_hit_ratio=.4,\n",
    "                          flag_only_max_hits=False,\n",
    "                          flag_allow_overlapping_sections=False,\n",
    "                          flag_adjust_real_page_num=False,\n",
    "                          flag_do_ocr=True,\n",
    "                          thresh_ocr=100,\n",
    "                          flag_allow_duplicate_hits_in_groups=True,\n",
    "                          sections_do_grouping=['auditor'],\n",
    "                          sections_with_page_skip_groups=None,).run()\n",
    "\n",
    "res"
   ]
  },
  {
   "cell_type": "markdown",
   "id": "a36de5e1-366f-42bd-89f5-48b1b703734b",
   "metadata": {},
   "source": [
    "### Loop Test"
   ]
  },
  {
   "cell_type": "code",
   "execution_count": null,
   "id": "389dad10-0237-4fa2-97d1-d8dbd60ee2a3",
   "metadata": {
    "scrolled": true
   },
   "outputs": [],
   "source": [
    "section_anchors = {'notes': em._notes_sections, 'auditor': em._auditor_sections}\n",
    "processed_section_anchors = util.process_section_anchors(section_anchors)\n",
    "\n",
    "results = []\n",
    "for index, row in tqdm(meta_input.iterrows()):\n",
    "    doc_id = row.doc_id\n",
    "    doc_path = row.doc_path\n",
    "\n",
    "    res = PageNumberExtractor(doc_id=doc_id,\n",
    "                          path=doc_path,\n",
    "                          section_anchors=processed_section_anchors,\n",
    "                          min_anchor_hit_ratio=0.4,\n",
    "                          flag_only_max_hits=False,\n",
    "                          flag_allow_overlapping_sections=False,\n",
    "                          flag_adjust_real_page_num=False,\n",
    "                          flag_do_ocr=True,\n",
    "                          flag_allow_duplicate_hits_in_groups=True,\n",
    "                          sections_with_page_skip_groups=['auditor'],\n",
    "                          thresh_ocr=100).run()\n",
    "\n",
    "    results.append(res)\n",
    "result_df = pd.DataFrame(results)"
   ]
  },
  {
   "cell_type": "code",
   "execution_count": 636,
   "id": "c9edec17-2f26-4b8d-840e-16c60c437fb2",
   "metadata": {},
   "outputs": [
    {
     "data": {
      "text/html": [
       "<div>\n",
       "<style scoped>\n",
       "    .dataframe tbody tr th:only-of-type {\n",
       "        vertical-align: middle;\n",
       "    }\n",
       "\n",
       "    .dataframe tbody tr th {\n",
       "        vertical-align: top;\n",
       "    }\n",
       "\n",
       "    .dataframe thead th {\n",
       "        text-align: right;\n",
       "    }\n",
       "</style>\n",
       "<table border=\"1\" class=\"dataframe\">\n",
       "  <thead>\n",
       "    <tr style=\"text-align: right;\">\n",
       "      <th></th>\n",
       "      <th>doc_id</th>\n",
       "      <th>doc_path</th>\n",
       "      <th>doc_num_pages</th>\n",
       "      <th>notes</th>\n",
       "      <th>auditor</th>\n",
       "    </tr>\n",
       "  </thead>\n",
       "  <tbody>\n",
       "    <tr>\n",
       "      <th>0</th>\n",
       "      <td>61777009</td>\n",
       "      <td>L:/pi_documents/documents_raw/pdf_navigator/61...</td>\n",
       "      <td>80</td>\n",
       "      <td>[2, 32, 33, 35, 36, 37, 38, 39, 21]</td>\n",
       "      <td>[22, 23]</td>\n",
       "    </tr>\n",
       "    <tr>\n",
       "      <th>1</th>\n",
       "      <td>63688600</td>\n",
       "      <td>L:/pi_documents/documents_raw/pdf_navigator/63...</td>\n",
       "      <td>216</td>\n",
       "      <td>[3, 85, 87, 88, 89, 103, 104, 105, 106, 107, 1...</td>\n",
       "      <td>[92, 93, 94, 95]</td>\n",
       "    </tr>\n",
       "    <tr>\n",
       "      <th>2</th>\n",
       "      <td>65265662</td>\n",
       "      <td>L:/pi_documents/documents_raw/acrobat_pdf_docu...</td>\n",
       "      <td>182</td>\n",
       "      <td>[67, 115, 127]</td>\n",
       "      <td>[124, 125, 126]</td>\n",
       "    </tr>\n",
       "    <tr>\n",
       "      <th>3</th>\n",
       "      <td>62963970</td>\n",
       "      <td>L:/pi_documents/documents_raw/pdf_navigator/62...</td>\n",
       "      <td>223</td>\n",
       "      <td>[55, 56, 75, 135, 136, 145, 146, 147, 211, 216...</td>\n",
       "      <td>[118]</td>\n",
       "    </tr>\n",
       "    <tr>\n",
       "      <th>4</th>\n",
       "      <td>61874456</td>\n",
       "      <td>L:/pi_documents/documents_raw/pdf_navigator/61...</td>\n",
       "      <td>148</td>\n",
       "      <td>[51, 52, 58, 62, 74, 75, 76, 77, 78, 79, 81, 8...</td>\n",
       "      <td>[68]</td>\n",
       "    </tr>\n",
       "    <tr>\n",
       "      <th>...</th>\n",
       "      <td>...</td>\n",
       "      <td>...</td>\n",
       "      <td>...</td>\n",
       "      <td>...</td>\n",
       "      <td>...</td>\n",
       "    </tr>\n",
       "    <tr>\n",
       "      <th>546</th>\n",
       "      <td>22415158</td>\n",
       "      <td>L:/pi_documents/documents_raw/pdf_navigator/22...</td>\n",
       "      <td>48</td>\n",
       "      <td>[8, 11, 12, 14, 31, 33]</td>\n",
       "      <td>[23, 24, 25]</td>\n",
       "    </tr>\n",
       "    <tr>\n",
       "      <th>547</th>\n",
       "      <td>22399065</td>\n",
       "      <td>L:/pi_documents/documents_raw/acrobat_pdf_docu...</td>\n",
       "      <td>50</td>\n",
       "      <td>[18, 19, 21, 29, 30, 31, 32]</td>\n",
       "      <td>[25]</td>\n",
       "    </tr>\n",
       "    <tr>\n",
       "      <th>548</th>\n",
       "      <td>60316808</td>\n",
       "      <td>L:/pi_documents/documents_raw/acrobat_pdf_docu...</td>\n",
       "      <td>72</td>\n",
       "      <td>[34, 35, 36, 37, 38, 39, 40]</td>\n",
       "      <td>[33]</td>\n",
       "    </tr>\n",
       "    <tr>\n",
       "      <th>549</th>\n",
       "      <td>64041464</td>\n",
       "      <td>L:/pi_documents/documents_raw/acrobat_pdf_docu...</td>\n",
       "      <td>254</td>\n",
       "      <td>[29, 30, 31, 35, 74, 105, 106, 107, 112, 128, ...</td>\n",
       "      <td>[93, 94, 95, 96, 97, 199, 200]</td>\n",
       "    </tr>\n",
       "    <tr>\n",
       "      <th>550</th>\n",
       "      <td>61477330</td>\n",
       "      <td>L:/pi_documents/documents_raw/pdf_navigator/61...</td>\n",
       "      <td>403</td>\n",
       "      <td>[79, 80, 98, 148, 149, 323, 64, 66]</td>\n",
       "      <td>[65]</td>\n",
       "    </tr>\n",
       "  </tbody>\n",
       "</table>\n",
       "<p>551 rows × 5 columns</p>\n",
       "</div>"
      ],
      "text/plain": [
       "       doc_id                                           doc_path  \\\n",
       "0    61777009  L:/pi_documents/documents_raw/pdf_navigator/61...   \n",
       "1    63688600  L:/pi_documents/documents_raw/pdf_navigator/63...   \n",
       "2    65265662  L:/pi_documents/documents_raw/acrobat_pdf_docu...   \n",
       "3    62963970  L:/pi_documents/documents_raw/pdf_navigator/62...   \n",
       "4    61874456  L:/pi_documents/documents_raw/pdf_navigator/61...   \n",
       "..        ...                                                ...   \n",
       "546  22415158  L:/pi_documents/documents_raw/pdf_navigator/22...   \n",
       "547  22399065  L:/pi_documents/documents_raw/acrobat_pdf_docu...   \n",
       "548  60316808  L:/pi_documents/documents_raw/acrobat_pdf_docu...   \n",
       "549  64041464  L:/pi_documents/documents_raw/acrobat_pdf_docu...   \n",
       "550  61477330  L:/pi_documents/documents_raw/pdf_navigator/61...   \n",
       "\n",
       "     doc_num_pages                                              notes  \\\n",
       "0               80                [2, 32, 33, 35, 36, 37, 38, 39, 21]   \n",
       "1              216  [3, 85, 87, 88, 89, 103, 104, 105, 106, 107, 1...   \n",
       "2              182                                     [67, 115, 127]   \n",
       "3              223  [55, 56, 75, 135, 136, 145, 146, 147, 211, 216...   \n",
       "4              148  [51, 52, 58, 62, 74, 75, 76, 77, 78, 79, 81, 8...   \n",
       "..             ...                                                ...   \n",
       "546             48                            [8, 11, 12, 14, 31, 33]   \n",
       "547             50                       [18, 19, 21, 29, 30, 31, 32]   \n",
       "548             72                       [34, 35, 36, 37, 38, 39, 40]   \n",
       "549            254  [29, 30, 31, 35, 74, 105, 106, 107, 112, 128, ...   \n",
       "550            403                [79, 80, 98, 148, 149, 323, 64, 66]   \n",
       "\n",
       "                            auditor  \n",
       "0                          [22, 23]  \n",
       "1                  [92, 93, 94, 95]  \n",
       "2                   [124, 125, 126]  \n",
       "3                             [118]  \n",
       "4                              [68]  \n",
       "..                              ...  \n",
       "546                    [23, 24, 25]  \n",
       "547                            [25]  \n",
       "548                            [33]  \n",
       "549  [93, 94, 95, 96, 97, 199, 200]  \n",
       "550                            [65]  \n",
       "\n",
       "[551 rows x 5 columns]"
      ]
     },
     "execution_count": 636,
     "metadata": {},
     "output_type": "execute_result"
    }
   ],
   "source": [
    "result_df"
   ]
  },
  {
   "cell_type": "markdown",
   "id": "2ed8721a-812b-4bb4-93d8-f93ae8774d14",
   "metadata": {},
   "source": [
    "## Accuracy Page Num Extractor"
   ]
  },
  {
   "cell_type": "code",
   "execution_count": 637,
   "id": "b1734ff7-f273-46f7-aa37-649d93a19fc6",
   "metadata": {},
   "outputs": [
    {
     "name": "stdout",
     "output_type": "stream",
     "text": [
      "notes:  hit_notes    0.647913\n",
      "dtype: float64\n",
      "auditor:  hit_audit    0.658802\n",
      "dtype: float64\n"
     ]
    }
   ],
   "source": [
    "merged = pd.merge(result_df, testing_meta, on='doc_id', how='left')\n",
    "merged['audit_std_page'] = pd.to_numeric(merged['audit_std_page'], errors='coerce').astype('Int64')\n",
    "merged['notes_std_page'] = pd.to_numeric(merged['notes_std_page'], errors='coerce').astype('Int64')\n",
    "merged['hit_notes'] = merged.apply(lambda x: (x.notes_std_page in x.notes) if pd.notna(x.notes_std_page) else False, axis=1)\n",
    "merged['hit_audit'] = merged.apply(lambda x: (x.audit_std_page in x.auditor) if pd.notna(x.audit_std_page) else False, axis=1)\n",
    "\n",
    "def calc_acc(df, section):\n",
    "    df = df[[f'hit_{section}']].copy()\n",
    "    mask_True = df[f'hit_{section}'] == True\n",
    "    hits = df[mask_True].count()\n",
    "    mask_valid = df[f'hit_{section}'].isin([True, False])\n",
    "    valid =df[mask_valid].count()\n",
    "    return hits/valid\n",
    "\n",
    "print('notes: ',calc_acc(merged, 'notes'))\n",
    "print('auditor: ',calc_acc(merged, 'audit'))"
   ]
  },
  {
   "cell_type": "markdown",
   "id": "b56768fa-4cba-427f-b240-1dd932118395",
   "metadata": {},
   "source": [
    "### Missing Page Nums"
   ]
  },
  {
   "cell_type": "code",
   "execution_count": null,
   "id": "1152d05c-2cb8-478e-b899-879080050fc7",
   "metadata": {},
   "outputs": [],
   "source": [
    "merged[merged.audit_std_page.isna() | merged.notes_std_page.isna()]"
   ]
  },
  {
   "cell_type": "markdown",
   "id": "a7fba4d2-100a-4b46-828e-ff1de5ae5a85",
   "metadata": {},
   "source": [
    "### Wrong Page"
   ]
  },
  {
   "cell_type": "code",
   "execution_count": null,
   "id": "1fa37a2e-ab36-4df6-9fb1-97368da219aa",
   "metadata": {},
   "outputs": [],
   "source": [
    "merged[~merged.hit_audit | ~merged.hit_notes]"
   ]
  },
  {
   "cell_type": "markdown",
   "id": "279bbf36-52d9-46bb-98ad-9acf2ad0eaed",
   "metadata": {},
   "source": [
    "# Test Text Extractor"
   ]
  },
  {
   "cell_type": "code",
   "execution_count": 182,
   "id": "7ee3808e-735d-4b74-9346-01610c6a26a3",
   "metadata": {},
   "outputs": [],
   "source": [
    "meta_text_extraction = result_df.copy()"
   ]
  },
  {
   "cell_type": "markdown",
   "id": "6552c0ba-dbea-415f-854d-79aa5eed2ad9",
   "metadata": {},
   "source": [
    "### Single Test"
   ]
  },
  {
   "cell_type": "code",
   "execution_count": 1007,
   "id": "658bca99-98a2-4f43-bab6-725e50632be4",
   "metadata": {},
   "outputs": [
    {
     "name": "stderr",
     "output_type": "stream",
     "text": [
      "[autoreload of utility.Extractor failed: Traceback (most recent call last):\n",
      "  File \"Q:\\Nasri\\python_venvs\\venv_ExtractSectionsPDFs\\Lib\\site-packages\\IPython\\extensions\\autoreload.py\", line 276, in check\n",
      "    superreload(m, reload, self.old_objects)\n",
      "  File \"Q:\\Nasri\\python_venvs\\venv_ExtractSectionsPDFs\\Lib\\site-packages\\IPython\\extensions\\autoreload.py\", line 500, in superreload\n",
      "    update_generic(old_obj, new_obj)\n",
      "  File \"Q:\\Nasri\\python_venvs\\venv_ExtractSectionsPDFs\\Lib\\site-packages\\IPython\\extensions\\autoreload.py\", line 397, in update_generic\n",
      "    update(a, b)\n",
      "  File \"Q:\\Nasri\\python_venvs\\venv_ExtractSectionsPDFs\\Lib\\site-packages\\IPython\\extensions\\autoreload.py\", line 365, in update_class\n",
      "    update_instances(old, new)\n",
      "  File \"Q:\\Nasri\\python_venvs\\venv_ExtractSectionsPDFs\\Lib\\site-packages\\IPython\\extensions\\autoreload.py\", line 322, in update_instances\n",
      "    if type(ref) is old:\n",
      "       ^^^^^^^^^^^^^^^^\n",
      "KeyboardInterrupt\n",
      "]\n"
     ]
    },
    {
     "ename": "NameError",
     "evalue": "name 'meta_text_extraction' is not defined",
     "output_type": "error",
     "traceback": [
      "\u001b[1;31m---------------------------------------------------------------------------\u001b[0m",
      "\u001b[1;31mNameError\u001b[0m                                 Traceback (most recent call last)",
      "Cell \u001b[1;32mIn[1007], line 5\u001b[0m\n\u001b[0;32m      2\u001b[0m processed_extraction_anchors \u001b[38;5;241m=\u001b[39m util\u001b[38;5;241m.\u001b[39mprocess_section_anchors(extraction_anchors)\n\u001b[0;32m      4\u001b[0m doc_id \u001b[38;5;241m=\u001b[39m \u001b[38;5;241m22032523\u001b[39m\n\u001b[1;32m----> 5\u001b[0m doc_path \u001b[38;5;241m=\u001b[39m \u001b[43mmeta_text_extraction\u001b[49m\u001b[38;5;241m.\u001b[39mloc[meta_text_extraction\u001b[38;5;241m.\u001b[39mdoc_id \u001b[38;5;241m==\u001b[39m doc_id, \u001b[38;5;124m\"\u001b[39m\u001b[38;5;124mdoc_path\u001b[39m\u001b[38;5;124m\"\u001b[39m]\u001b[38;5;241m.\u001b[39mvalues[\u001b[38;5;241m0\u001b[39m]\n\u001b[0;32m      7\u001b[0m res \u001b[38;5;241m=\u001b[39m {}\n\u001b[0;32m      9\u001b[0m \u001b[38;5;28;01mfor\u001b[39;00m section, anchor \u001b[38;5;129;01min\u001b[39;00m processed_extraction_anchors\u001b[38;5;241m.\u001b[39mitems():\n",
      "\u001b[1;31mNameError\u001b[0m: name 'meta_text_extraction' is not defined"
     ]
    }
   ],
   "source": [
    "extraction_anchors = {'notes': em._notes_standards, 'auditor': em._auditor_standards}\n",
    "processed_extraction_anchors = util.process_section_anchors(extraction_anchors)\n",
    "\n",
    "doc_id = 22032523\n",
    "doc_path = meta_text_extraction.loc[meta_text_extraction.doc_id == doc_id, \"doc_path\"].values[0]\n",
    "\n",
    "res = {}\n",
    "\n",
    "for section, anchor in processed_extraction_anchors.items():\n",
    "    section_pages = meta_text_extraction.loc[meta_text_extraction.doc_id == doc_id, section].values[0]\n",
    "    res[section] = PageTextExtractor(doc_id = doc_id,\n",
    "                                     path = doc_path,\n",
    "                                     section = section,\n",
    "                                     page_nums = section_pages,\n",
    "                                     flag_reduce = False,\n",
    "                                     anchors = anchor,\n",
    "                                     anchor_add_word_window = 20,\n",
    "                                     allowance_wildcards_reg_matches = 400,\n",
    "                                     flag_do_ocr = False).run()\n",
    "\n",
    "res"
   ]
  },
  {
   "cell_type": "markdown",
   "id": "b3d82189-48dc-4da2-9eae-c9e89633f863",
   "metadata": {},
   "source": [
    "### Loop Test"
   ]
  },
  {
   "cell_type": "code",
   "execution_count": 201,
   "id": "f75ab7f7-387f-4ad8-9729-85154f0d7d5e",
   "metadata": {},
   "outputs": [
    {
     "name": "stderr",
     "output_type": "stream",
     "text": [
      "11it [00:02,  4.73it/s]\n"
     ]
    }
   ],
   "source": [
    "for index, row in tqdm(meta_text_extraction.iterrows()):\n",
    "    doc_id = row.doc_id\n",
    "    doc_path = row.doc_path\n",
    "    for section, anchors in processed_extraction_anchors.items():\n",
    "        section_pages = row[section]\n",
    "        if f\"{section}_terms\" not in meta_text_extraction.columns:\n",
    "            meta_text_extraction[f\"{section}_terms\"] = None\n",
    "            meta_text_extraction[f\"{section}_terms\"] = meta_text_extraction[f\"{section}_terms\"].astype('object')\n",
    "\n",
    "        res = PageTextExtractor(doc_id = doc_id,\n",
    "                                path = doc_path,\n",
    "                                section = section,\n",
    "                                page_nums = section_pages,\n",
    "                                flag_reduce = False,\n",
    "                                anchors = anchors,\n",
    "                                anchor_add_word_window = 20,\n",
    "                                allowance_wildcards_reg_matches = 400,\n",
    "                                flag_do_ocr = False).run()\n",
    "        \n",
    "        meta_text_extraction.loc[meta_text_extraction.doc_id == doc_id,f\"{section}_num_tokens\"] = res[1]\n",
    "        meta_text_extraction.loc[meta_text_extraction.doc_id == doc_id,f\"{section}_text\"] = res[0]\n",
    "        meta_text_extraction.at[index,f\"{section}_terms\"] = res[2]\n",
    "\n",
    "# aggregate token estimate\n",
    "cols_num_tokens = [col for col in meta_text_extraction.columns if \"num_tokens\" in col]\n",
    "if 'total_num_tokens' in meta_text_extraction.columns:\n",
    "    meta_text_extraction['total_num_tokens'] = 0\n",
    "meta_text_extraction['total_num_tokens'] = meta_text_extraction[cols_num_tokens].sum(axis=1)"
   ]
  },
  {
   "cell_type": "markdown",
   "id": "83d65476-cd98-4d79-b0ba-8dedb90c5d7b",
   "metadata": {},
   "source": [
    "### Estimate Number of Tokens"
   ]
  },
  {
   "cell_type": "code",
   "execution_count": 202,
   "id": "2b40f9ed-8463-4e07-9f56-54c7367c66f9",
   "metadata": {},
   "outputs": [
    {
     "data": {
      "text/html": [
       "<div>\n",
       "<style scoped>\n",
       "    .dataframe tbody tr th:only-of-type {\n",
       "        vertical-align: middle;\n",
       "    }\n",
       "\n",
       "    .dataframe tbody tr th {\n",
       "        vertical-align: top;\n",
       "    }\n",
       "\n",
       "    .dataframe thead th {\n",
       "        text-align: right;\n",
       "    }\n",
       "</style>\n",
       "<table border=\"1\" class=\"dataframe\">\n",
       "  <thead>\n",
       "    <tr style=\"text-align: right;\">\n",
       "      <th></th>\n",
       "      <th>auditor_num_tokens</th>\n",
       "      <th>notes_num_tokens</th>\n",
       "      <th>total_num_tokens</th>\n",
       "    </tr>\n",
       "  </thead>\n",
       "  <tbody>\n",
       "    <tr>\n",
       "      <th>count</th>\n",
       "      <td>11.000000</td>\n",
       "      <td>11.000000</td>\n",
       "      <td>11.000000</td>\n",
       "    </tr>\n",
       "    <tr>\n",
       "      <th>mean</th>\n",
       "      <td>1378.363636</td>\n",
       "      <td>6685.727273</td>\n",
       "      <td>8064.090909</td>\n",
       "    </tr>\n",
       "    <tr>\n",
       "      <th>std</th>\n",
       "      <td>903.136565</td>\n",
       "      <td>3150.242533</td>\n",
       "      <td>3634.535334</td>\n",
       "    </tr>\n",
       "    <tr>\n",
       "      <th>min</th>\n",
       "      <td>260.000000</td>\n",
       "      <td>1673.000000</td>\n",
       "      <td>1933.000000</td>\n",
       "    </tr>\n",
       "    <tr>\n",
       "      <th>25%</th>\n",
       "      <td>569.000000</td>\n",
       "      <td>4468.500000</td>\n",
       "      <td>5890.500000</td>\n",
       "    </tr>\n",
       "    <tr>\n",
       "      <th>50%</th>\n",
       "      <td>1507.000000</td>\n",
       "      <td>6322.000000</td>\n",
       "      <td>7835.000000</td>\n",
       "    </tr>\n",
       "    <tr>\n",
       "      <th>75%</th>\n",
       "      <td>1859.000000</td>\n",
       "      <td>8907.000000</td>\n",
       "      <td>9960.000000</td>\n",
       "    </tr>\n",
       "    <tr>\n",
       "      <th>max</th>\n",
       "      <td>2924.000000</td>\n",
       "      <td>11382.000000</td>\n",
       "      <td>14306.000000</td>\n",
       "    </tr>\n",
       "  </tbody>\n",
       "</table>\n",
       "</div>"
      ],
      "text/plain": [
       "       auditor_num_tokens  notes_num_tokens  total_num_tokens\n",
       "count           11.000000         11.000000         11.000000\n",
       "mean          1378.363636       6685.727273       8064.090909\n",
       "std            903.136565       3150.242533       3634.535334\n",
       "min            260.000000       1673.000000       1933.000000\n",
       "25%            569.000000       4468.500000       5890.500000\n",
       "50%           1507.000000       6322.000000       7835.000000\n",
       "75%           1859.000000       8907.000000       9960.000000\n",
       "max           2924.000000      11382.000000      14306.000000"
      ]
     },
     "execution_count": 202,
     "metadata": {},
     "output_type": "execute_result"
    }
   ],
   "source": [
    "meta_text_extraction[['auditor_num_tokens', 'notes_num_tokens', 'total_num_tokens']].describe()"
   ]
  },
  {
   "cell_type": "markdown",
   "id": "c225cf35-e23f-4489-b2b3-6c79144254cb",
   "metadata": {},
   "source": [
    "# Test Term Extractor"
   ]
  },
  {
   "cell_type": "code",
   "execution_count": 932,
   "id": "1fdcf8d0-e5e3-41bd-a0ea-2d9865ca8550",
   "metadata": {},
   "outputs": [
    {
     "data": {
      "text/html": [
       "<div>\n",
       "<style scoped>\n",
       "    .dataframe tbody tr th:only-of-type {\n",
       "        vertical-align: middle;\n",
       "    }\n",
       "\n",
       "    .dataframe tbody tr th {\n",
       "        vertical-align: top;\n",
       "    }\n",
       "\n",
       "    .dataframe thead th {\n",
       "        text-align: right;\n",
       "    }\n",
       "</style>\n",
       "<table border=\"1\" class=\"dataframe\">\n",
       "  <thead>\n",
       "    <tr style=\"text-align: right;\">\n",
       "      <th></th>\n",
       "      <th>doc_id</th>\n",
       "      <th>doc_path</th>\n",
       "      <th>doc_num_pages</th>\n",
       "      <th>notes</th>\n",
       "      <th>auditor</th>\n",
       "    </tr>\n",
       "  </thead>\n",
       "  <tbody>\n",
       "    <tr>\n",
       "      <th>0</th>\n",
       "      <td>61112220</td>\n",
       "      <td>L:/pi_documents/documents_raw/pdf_navigator/61...</td>\n",
       "      <td>45</td>\n",
       "      <td>[17, 24, 36]</td>\n",
       "      <td>[42, 43, 44]</td>\n",
       "    </tr>\n",
       "    <tr>\n",
       "      <th>1</th>\n",
       "      <td>61857037</td>\n",
       "      <td>L:/pi_documents/documents_raw/pdf_navigator/61...</td>\n",
       "      <td>37</td>\n",
       "      <td>[6, 7, 19, 22, 23]</td>\n",
       "      <td>[10, 11]</td>\n",
       "    </tr>\n",
       "    <tr>\n",
       "      <th>2</th>\n",
       "      <td>61139040</td>\n",
       "      <td>L:/pi_documents/documents_raw/pdf_navigator/61...</td>\n",
       "      <td>34</td>\n",
       "      <td>[16, 25]</td>\n",
       "      <td>[28, 29]</td>\n",
       "    </tr>\n",
       "    <tr>\n",
       "      <th>3</th>\n",
       "      <td>60492793</td>\n",
       "      <td>L:/pi_documents/documents_raw/acrobat_pdf_docu...</td>\n",
       "      <td>52</td>\n",
       "      <td>[22, 26, 36]</td>\n",
       "      <td>[32]</td>\n",
       "    </tr>\n",
       "    <tr>\n",
       "      <th>4</th>\n",
       "      <td>60910983</td>\n",
       "      <td>L:/pi_documents/documents_raw/pdf_navigator/60...</td>\n",
       "      <td>28</td>\n",
       "      <td>[8, 14]</td>\n",
       "      <td>[9]</td>\n",
       "    </tr>\n",
       "    <tr>\n",
       "      <th>...</th>\n",
       "      <td>...</td>\n",
       "      <td>...</td>\n",
       "      <td>...</td>\n",
       "      <td>...</td>\n",
       "      <td>...</td>\n",
       "    </tr>\n",
       "    <tr>\n",
       "      <th>166</th>\n",
       "      <td>173072492</td>\n",
       "      <td>L:/pi_documents/documents_raw/sec_full_submiss...</td>\n",
       "      <td>422</td>\n",
       "      <td>[75, 100, 110, 214, 227, 235, 236, 250, 297, 2...</td>\n",
       "      <td>[91, 92, 149, 150, 151, 152, 153, 154, 155, 15...</td>\n",
       "    </tr>\n",
       "    <tr>\n",
       "      <th>167</th>\n",
       "      <td>61796709</td>\n",
       "      <td>L:/pi_documents/documents_raw/pdf_navigator/61...</td>\n",
       "      <td>58</td>\n",
       "      <td>[2, 17, 22, 30, 52]</td>\n",
       "      <td>[36, 37]</td>\n",
       "    </tr>\n",
       "    <tr>\n",
       "      <th>168</th>\n",
       "      <td>64396210</td>\n",
       "      <td>L:/pi_documents/documents_raw/pdf_navigator/64...</td>\n",
       "      <td>89</td>\n",
       "      <td>[16, 45, 46, 57, 65, 66, 77]</td>\n",
       "      <td>[40, 41, 42, 44, 61, 62, 63]</td>\n",
       "    </tr>\n",
       "    <tr>\n",
       "      <th>169</th>\n",
       "      <td>64926379</td>\n",
       "      <td>L:/pi_documents/documents_raw/acrobat_pdf_docu...</td>\n",
       "      <td>258</td>\n",
       "      <td>[83, 145, 159, 163, 178, 179, 180]</td>\n",
       "      <td>[160, 161, 163, 164]</td>\n",
       "    </tr>\n",
       "    <tr>\n",
       "      <th>170</th>\n",
       "      <td>60506045</td>\n",
       "      <td>L:/pi_documents/documents_raw/acrobat_pdf_docu...</td>\n",
       "      <td>50</td>\n",
       "      <td>[34]</td>\n",
       "      <td>[27, 28]</td>\n",
       "    </tr>\n",
       "  </tbody>\n",
       "</table>\n",
       "<p>171 rows × 5 columns</p>\n",
       "</div>"
      ],
      "text/plain": [
       "        doc_id                                           doc_path  \\\n",
       "0     61112220  L:/pi_documents/documents_raw/pdf_navigator/61...   \n",
       "1     61857037  L:/pi_documents/documents_raw/pdf_navigator/61...   \n",
       "2     61139040  L:/pi_documents/documents_raw/pdf_navigator/61...   \n",
       "3     60492793  L:/pi_documents/documents_raw/acrobat_pdf_docu...   \n",
       "4     60910983  L:/pi_documents/documents_raw/pdf_navigator/60...   \n",
       "..         ...                                                ...   \n",
       "166  173072492  L:/pi_documents/documents_raw/sec_full_submiss...   \n",
       "167   61796709  L:/pi_documents/documents_raw/pdf_navigator/61...   \n",
       "168   64396210  L:/pi_documents/documents_raw/pdf_navigator/64...   \n",
       "169   64926379  L:/pi_documents/documents_raw/acrobat_pdf_docu...   \n",
       "170   60506045  L:/pi_documents/documents_raw/acrobat_pdf_docu...   \n",
       "\n",
       "     doc_num_pages                                              notes  \\\n",
       "0               45                                       [17, 24, 36]   \n",
       "1               37                                 [6, 7, 19, 22, 23]   \n",
       "2               34                                           [16, 25]   \n",
       "3               52                                       [22, 26, 36]   \n",
       "4               28                                            [8, 14]   \n",
       "..             ...                                                ...   \n",
       "166            422  [75, 100, 110, 214, 227, 235, 236, 250, 297, 2...   \n",
       "167             58                                [2, 17, 22, 30, 52]   \n",
       "168             89                       [16, 45, 46, 57, 65, 66, 77]   \n",
       "169            258                 [83, 145, 159, 163, 178, 179, 180]   \n",
       "170             50                                               [34]   \n",
       "\n",
       "                                               auditor  \n",
       "0                                         [42, 43, 44]  \n",
       "1                                             [10, 11]  \n",
       "2                                             [28, 29]  \n",
       "3                                                 [32]  \n",
       "4                                                  [9]  \n",
       "..                                                 ...  \n",
       "166  [91, 92, 149, 150, 151, 152, 153, 154, 155, 15...  \n",
       "167                                           [36, 37]  \n",
       "168                       [40, 41, 42, 44, 61, 62, 63]  \n",
       "169                               [160, 161, 163, 164]  \n",
       "170                                           [27, 28]  \n",
       "\n",
       "[171 rows x 5 columns]"
      ]
     },
     "execution_count": 932,
     "metadata": {},
     "output_type": "execute_result"
    }
   ],
   "source": [
    "meta_term_extraction = pd.read_parquet(os.path.join(path_data, 'extracted_page_nums', 'page_nums_complete_24_05_15_19_48.parquet')) #result_df.copy()\n",
    "meta_term_extraction"
   ]
  },
  {
   "cell_type": "markdown",
   "id": "0b72be7a-403f-4947-8325-e8109bb0297d",
   "metadata": {},
   "source": [
    "## Single Test"
   ]
  },
  {
   "cell_type": "code",
   "execution_count": 1013,
   "id": "9dbda79b-37af-4128-9ae6-63ac57c7d3e5",
   "metadata": {},
   "outputs": [
    {
     "name": "stdout",
     "output_type": "stream",
     "text": [
      "L:/pi_documents/documents_raw/pdf_navigator/61635511.pdf\n",
      "Empty DataFrame\n",
      "Columns: [notes, auditor]\n",
      "Index: []\n"
     ]
    },
    {
     "ename": "IndexError",
     "evalue": "index 0 is out of bounds for axis 0 with size 0",
     "output_type": "error",
     "traceback": [
      "\u001b[1;31m---------------------------------------------------------------------------\u001b[0m",
      "\u001b[1;31mIndexError\u001b[0m                                Traceback (most recent call last)",
      "Cell \u001b[1;32mIn[1013], line 20\u001b[0m\n\u001b[0;32m     17\u001b[0m res \u001b[38;5;241m=\u001b[39m {}\n\u001b[0;32m     19\u001b[0m \u001b[38;5;28;01mfor\u001b[39;00m section, anchors \u001b[38;5;129;01min\u001b[39;00m processed_extraction_anchors\u001b[38;5;241m.\u001b[39mitems():\n\u001b[1;32m---> 20\u001b[0m     section_pages \u001b[38;5;241m=\u001b[39m \u001b[43mmeta_term_extraction\u001b[49m\u001b[38;5;241;43m.\u001b[39;49m\u001b[43mloc\u001b[49m\u001b[43m[\u001b[49m\u001b[43mmeta_term_extraction\u001b[49m\u001b[38;5;241;43m.\u001b[39;49m\u001b[43mdoc_id\u001b[49m\u001b[43m \u001b[49m\u001b[38;5;241;43m==\u001b[39;49m\u001b[43m \u001b[49m\u001b[43mdoc_id\u001b[49m\u001b[43m]\u001b[49m\u001b[43m[\u001b[49m\u001b[43msection\u001b[49m\u001b[43m]\u001b[49m\u001b[38;5;241;43m.\u001b[39;49m\u001b[43mvalues\u001b[49m\u001b[43m[\u001b[49m\u001b[38;5;241;43m0\u001b[39;49m\u001b[43m]\u001b[49m\n\u001b[0;32m     22\u001b[0m     res[section] \u001b[38;5;241m=\u001b[39m TermExtractor(doc_id \u001b[38;5;241m=\u001b[39m doc_id,\n\u001b[0;32m     23\u001b[0m                                  path \u001b[38;5;241m=\u001b[39m doc_path,\n\u001b[0;32m     24\u001b[0m                                  section \u001b[38;5;241m=\u001b[39m section,\n\u001b[1;32m   (...)\u001b[0m\n\u001b[0;32m     33\u001b[0m                                  flag_para_majority_voting\u001b[38;5;241m=\u001b[39mflag_mv[section],\n\u001b[0;32m     34\u001b[0m                                  anchors_mv \u001b[38;5;241m=\u001b[39m processed_mv_anchors[section])\u001b[38;5;241m.\u001b[39mrun()\n\u001b[0;32m     37\u001b[0m \u001b[38;5;28;01mfor\u001b[39;00m section \u001b[38;5;129;01min\u001b[39;00m res:\n",
      "\u001b[1;31mIndexError\u001b[0m: index 0 is out of bounds for axis 0 with size 0"
     ]
    }
   ],
   "source": [
    "extraction_anchors = {'notes': em._notes_standards, 'auditor': em._auditor_standards}\n",
    "processed_extraction_anchors = util.process_section_anchors(extraction_anchors)\n",
    "\n",
    "mv_anchors = {'notes': em._notes_sections, 'auditor': em._auditor_sections}\n",
    "processed_mv_anchors = util.process_section_anchors(mv_anchors)\n",
    "flag_mv = {'auditor': False, 'notes': False}\n",
    "\n",
    "doc_id = 60506045\n",
    "\n",
    "doc_path = 'L:/pi_documents/documents_raw/pdf_navigator/61635511.pdf'\n",
    "doc_id = doc_path.split('/')[-1]\n",
    "#doc_path = meta_term_extraction.loc[meta_term_extraction.doc_id == doc_id, \"doc_path\"].values[0]\n",
    "\n",
    "print(doc_path)\n",
    "meta_term_extraction.loc[meta_term_extraction.doc_id == doc_id, 'notes auditor'.split()]  = [[[34,\n",
    "  142,\n",
    "  252,\n",
    "  261,\n",
    "  264,\n",
    "  267,\n",
    "  297,\n",
    "  298,\n",
    "  301,\n",
    "  305,\n",
    "  315,\n",
    "  324,\n",
    "  425,\n",
    "  434,\n",
    "  485]], ]\n",
    "\n",
    "res = {}\n",
    "\n",
    "for section, anchors in processed_extraction_anchors.items():\n",
    "    section_pages = meta_term_extraction.loc[meta_term_extraction.doc_id == doc_id][section].values[0]\n",
    "    \n",
    "    res[section] = TermExtractor(doc_id = doc_id,\n",
    "                                 path = doc_path,\n",
    "                                 section = section,\n",
    "                                 page_nums = section_pages,\n",
    "                                 anchors = anchors,\n",
    "                                 anchor_add_word_window = 20,\n",
    "                                 allowance_wildcards_reg_matches = 600,\n",
    "                                 flag_capture_surrounding_sentences = True,\n",
    "                                 surrounding_sentences_margin = 2,\n",
    "                                 flag_do_ocr = True,\n",
    "                                 thresh_ocr= 100,\n",
    "                                 flag_para_majority_voting=flag_mv[section],\n",
    "                                 anchors_mv = processed_mv_anchors[section]).run()\n",
    "\n",
    "\n",
    "for section in res:\n",
    "    print(section)\n",
    "    print()\n",
    "    for ir in res[section]:\n",
    "        print(ir)\n",
    "        print()\n",
    "    print('---')"
   ]
  },
  {
   "cell_type": "markdown",
   "id": "b7858bc0-963e-45a7-9d2e-75fe5bdb0ed3",
   "metadata": {},
   "source": [
    "## Loop Test"
   ]
  },
  {
   "cell_type": "code",
   "execution_count": null,
   "id": "ee163def-3136-4982-91f6-05172b0d7267",
   "metadata": {},
   "outputs": [],
   "source": [
    "for index, row in tqdm(meta_term_extraction.iterrows()):\n",
    "    doc_id = row.doc_id\n",
    "    doc_path = row.doc_path\n",
    "    for section, anchors in processed_extraction_anchors.items():\n",
    "        section_pages = row[section]\n",
    "        if f\"{section}_terms\" not in meta_term_extraction.columns:\n",
    "            meta_term_extraction[f\"{section}_terms\"] = None\n",
    "            meta_term_extraction[f\"{section}_terms\"] = meta_term_extraction[f\"{section}_terms\"].astype('object')\n",
    "        if f\"{section}_sentences\" not in meta_term_extraction.columns:\n",
    "            meta_term_extraction[f\"{section}_sentences\"] = None\n",
    "            meta_term_extraction[f\"{section}_sentences\"] = meta_term_extraction[f\"{section}_sentences\"].astype('object')\n",
    "        if f\"{section}_paragraphs\" not in meta_term_extraction.columns:\n",
    "            meta_term_extraction[f\"{section}_paragraphs\"] = None\n",
    "            meta_term_extraction[f\"{section}_paragraphs\"] = meta_term_extraction[f\"{section}_paragraphs\"].astype('object')\n",
    "\n",
    "        res = TermExtractor(doc_id = doc_id,\n",
    "                            path = doc_path,\n",
    "                            section = section,\n",
    "                            page_nums = section_pages,\n",
    "                            anchors = anchors,\n",
    "                            anchor_add_word_window = 20,\n",
    "                            allowance_wildcards_reg_matches = 400,\n",
    "                            flag_capture_surrounding_sentences = True,\n",
    "                            surrounding_sentences_margin = 2,\n",
    "                            flag_do_ocr = False).run()\n",
    "\n",
    "        paragraphs = \"\"\n",
    "        for inter, para in res[0].items():\n",
    "            paragraphs += ' '.join(para) + '\\n\\n'\n",
    "\n",
    "        num_tokens = util.count_tokens(paragraphs)            \n",
    "        \n",
    "        meta_term_extraction.loc[meta_term_extraction.doc_id == doc_id,f\"{section}_num_tokens\"] = num_tokens\n",
    "        meta_term_extraction.loc[meta_term_extraction.doc_id == doc_id,f\"{section}_paragraphs\"] = paragraphs\n",
    "        meta_term_extraction.at[index,f\"{section}_sentences\"] = res[1]\n",
    "        meta_term_extraction.at[index,f\"{section}_terms\"] = res[2]\n",
    "\n",
    "# aggregate token estimate\n",
    "cols_num_tokens = [col for col in meta_term_extraction.columns if \"num_tokens\" in col]\n",
    "if 'total_num_tokens' in meta_term_extraction.columns:\n",
    "    meta_term_extraction['total_num_tokens'] = 0\n",
    "meta_term_extraction['total_num_tokens'] = meta_term_extraction[cols_num_tokens].sum(axis=1)"
   ]
  },
  {
   "cell_type": "code",
   "execution_count": null,
   "id": "45461807-cd1b-45da-a3a0-e85620fc6963",
   "metadata": {},
   "outputs": [],
   "source": [
    "meta_term_extraction"
   ]
  },
  {
   "cell_type": "code",
   "execution_count": null,
   "id": "2e001bab-4fb8-45db-99ad-c5177a7eea3e",
   "metadata": {},
   "outputs": [],
   "source": [
    "meta_term_extraction[['auditor_num_tokens', 'notes_num_tokens', 'total_num_tokens']].describe()"
   ]
  }
 ],
 "metadata": {
  "kernelspec": {
   "display_name": "venvExtractSectionsPDFs",
   "language": "python",
   "name": "venvextractsectionspdfs"
  },
  "language_info": {
   "codemirror_mode": {
    "name": "ipython",
    "version": 3
   },
   "file_extension": ".py",
   "mimetype": "text/x-python",
   "name": "python",
   "nbconvert_exporter": "python",
   "pygments_lexer": "ipython3",
   "version": "3.12.3"
  }
 },
 "nbformat": 4,
 "nbformat_minor": 5
}
